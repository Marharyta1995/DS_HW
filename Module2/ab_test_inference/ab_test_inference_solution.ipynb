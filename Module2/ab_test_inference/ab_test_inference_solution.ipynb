{
 "cells": [
  {
   "cell_type": "markdown",
   "source": [
    "Задание:\n",
    "В A/B тесте было два варианта работы сервиса - standard и svm_ensemble_v_1_22, где работала модель классификации пользователей.\n",
    "Ответьте на 2 вопроса:\n",
    "Стоит ли нам оставить старый вариант работы или заменить на вариант svm_ensemble_v_1_22 (используем всю выборку 200к+ записей)\n",
    "Так же посчитайте вывод для типа пользователей (user_type) стоит ли для новых/старых пользователей (new/registered user) оставить старый / новый вариант работы (разделяем всю выборку 200к+ записей на группы)"
   ],
   "metadata": {
    "collapsed": false,
    "pycharm": {
     "name": "#%% md\n"
    }
   }
  },
  {
   "cell_type": "code",
   "execution_count": 1,
   "metadata": {
    "collapsed": true,
    "pycharm": {
     "name": "#%%\n"
    }
   },
   "outputs": [
    {
     "name": "stdout",
     "output_type": "stream",
     "text": [
      "Requirement already satisfied: numpy in /Users/marharyta/Desktop/Data_science/IT_Academy/Data_science_course/venv/lib/python3.8/site-packages (1.22.4)\r\n",
      "Requirement already satisfied: pandas in /Users/marharyta/Desktop/Data_science/IT_Academy/Data_science_course/venv/lib/python3.8/site-packages (1.4.2)\r\n",
      "Requirement already satisfied: scipy in /Users/marharyta/Desktop/Data_science/IT_Academy/Data_science_course/venv/lib/python3.8/site-packages (1.8.1)\r\n",
      "Requirement already satisfied: statsmodels in /Users/marharyta/Desktop/Data_science/IT_Academy/Data_science_course/venv/lib/python3.8/site-packages (0.13.2)\r\n",
      "Requirement already satisfied: matplotlib in /Users/marharyta/Desktop/Data_science/IT_Academy/Data_science_course/venv/lib/python3.8/site-packages (3.5.2)\r\n",
      "Requirement already satisfied: seaborn in /Users/marharyta/Desktop/Data_science/IT_Academy/Data_science_course/venv/lib/python3.8/site-packages (0.11.2)\r\n",
      "Requirement already satisfied: pytz>=2020.1 in /Users/marharyta/Desktop/Data_science/IT_Academy/Data_science_course/venv/lib/python3.8/site-packages (from pandas) (2022.1)\r\n",
      "Requirement already satisfied: python-dateutil>=2.8.1 in /Users/marharyta/Desktop/Data_science/IT_Academy/Data_science_course/venv/lib/python3.8/site-packages (from pandas) (2.8.2)\r\n",
      "Requirement already satisfied: six>=1.5 in /Users/marharyta/Desktop/Data_science/IT_Academy/Data_science_course/venv/lib/python3.8/site-packages (from python-dateutil>=2.8.1->pandas) (1.16.0)\r\n",
      "Requirement already satisfied: packaging>=21.3 in /Users/marharyta/Desktop/Data_science/IT_Academy/Data_science_course/venv/lib/python3.8/site-packages (from statsmodels) (21.3)\r\n",
      "Requirement already satisfied: patsy>=0.5.2 in /Users/marharyta/Desktop/Data_science/IT_Academy/Data_science_course/venv/lib/python3.8/site-packages (from statsmodels) (0.5.2)\r\n",
      "Requirement already satisfied: pyparsing!=3.0.5,>=2.0.2 in /Users/marharyta/Desktop/Data_science/IT_Academy/Data_science_course/venv/lib/python3.8/site-packages (from packaging>=21.3->statsmodels) (3.0.9)\r\n",
      "Requirement already satisfied: fonttools>=4.22.0 in /Users/marharyta/Desktop/Data_science/IT_Academy/Data_science_course/venv/lib/python3.8/site-packages (from matplotlib) (4.33.3)\r\n",
      "Requirement already satisfied: pillow>=6.2.0 in /Users/marharyta/Desktop/Data_science/IT_Academy/Data_science_course/venv/lib/python3.8/site-packages (from matplotlib) (9.1.1)\r\n",
      "Requirement already satisfied: cycler>=0.10 in /Users/marharyta/Desktop/Data_science/IT_Academy/Data_science_course/venv/lib/python3.8/site-packages (from matplotlib) (0.11.0)\r\n",
      "Requirement already satisfied: kiwisolver>=1.0.1 in /Users/marharyta/Desktop/Data_science/IT_Academy/Data_science_course/venv/lib/python3.8/site-packages (from matplotlib) (1.4.3)\r\n",
      "\u001B[33mWARNING: You are using pip version 21.1.2; however, version 22.1.2 is available.\r\n",
      "You should consider upgrading via the '/Users/marharyta/Desktop/Data_science/IT_Academy/Data_science_course/venv/bin/python -m pip install --upgrade pip' command.\u001B[0m\r\n"
     ]
    }
   ],
   "source": [
    "# ! pip install numpy pandas scipy statsmodels matplotlib seaborn"
   ]
  },
  {
   "cell_type": "code",
   "execution_count": 4,
   "outputs": [],
   "source": [
    "# Библиотеки\n",
    "import numpy as np\n",
    "import pandas as pd\n",
    "import scipy.stats as stats\n",
    "import statsmodels.stats.api as sms\n",
    "import matplotlib as mpl\n",
    "import matplotlib.pyplot as plt\n",
    "import seaborn as sns\n",
    "from math import ceil\n",
    "\n",
    "# Настройки отображения графиков\n",
    "%matplotlib inline\n",
    "plt.style.use('seaborn-whitegrid')\n",
    "font = {'family' : 'Helvetica',\n",
    "        'weight' : 'bold',\n",
    "        'size'   : 14}\n",
    "mpl.rc('font', **font)"
   ],
   "metadata": {
    "collapsed": false,
    "pycharm": {
     "name": "#%%\n"
    }
   }
  },
  {
   "cell_type": "code",
   "execution_count": 5,
   "outputs": [],
   "source": [
    "# Используем всю выборку"
   ],
   "metadata": {
    "collapsed": false,
    "pycharm": {
     "name": "#%%\n"
    }
   }
  },
  {
   "cell_type": "code",
   "execution_count": 14,
   "outputs": [
    {
     "data": {
      "text/plain": "                                user_id                   timestamp  \\\n0  9109b0dc-d393-497f-8d63-ba9a25dd16b4  2022-05-21 22:11:48.556739   \n1  2430c3d2-f75b-4b31-8271-51b6a76c2652  2022-05-12 08:01:45.159739   \n2  44788c4e-8dd2-4fad-b986-75e76f4adb64  2022-05-11 16:55:06.154213   \n3  4699a417-506d-41b8-a354-6af6ad576963  2022-05-08 18:28:03.143765   \n4  304b0d28-bcdf-401a-9dff-66230d3ba0bc  2022-05-21 01:52:26.210827   \n\n       group             variants  converted        location age_group  \\\n0    control             standard          0  United Kingdom     18-25   \n1    control             standard          0  United Kingdom     42-49   \n2  treatment  svm_ensemble_v_1_22          0  United Kingdom     26-33   \n3  treatment  svm_ensemble_v_1_22          0  United Kingdom     42-49   \n4    control             standard          1  United Kingdom     42-49   \n\n         user_type  \n0  registered_user  \n1  registered_user  \n2         new_user  \n3  registered_user  \n4  registered_user  ",
      "text/html": "<div>\n<style scoped>\n    .dataframe tbody tr th:only-of-type {\n        vertical-align: middle;\n    }\n\n    .dataframe tbody tr th {\n        vertical-align: top;\n    }\n\n    .dataframe thead th {\n        text-align: right;\n    }\n</style>\n<table border=\"1\" class=\"dataframe\">\n  <thead>\n    <tr style=\"text-align: right;\">\n      <th></th>\n      <th>user_id</th>\n      <th>timestamp</th>\n      <th>group</th>\n      <th>variants</th>\n      <th>converted</th>\n      <th>location</th>\n      <th>age_group</th>\n      <th>user_type</th>\n    </tr>\n  </thead>\n  <tbody>\n    <tr>\n      <th>0</th>\n      <td>9109b0dc-d393-497f-8d63-ba9a25dd16b4</td>\n      <td>2022-05-21 22:11:48.556739</td>\n      <td>control</td>\n      <td>standard</td>\n      <td>0</td>\n      <td>United Kingdom</td>\n      <td>18-25</td>\n      <td>registered_user</td>\n    </tr>\n    <tr>\n      <th>1</th>\n      <td>2430c3d2-f75b-4b31-8271-51b6a76c2652</td>\n      <td>2022-05-12 08:01:45.159739</td>\n      <td>control</td>\n      <td>standard</td>\n      <td>0</td>\n      <td>United Kingdom</td>\n      <td>42-49</td>\n      <td>registered_user</td>\n    </tr>\n    <tr>\n      <th>2</th>\n      <td>44788c4e-8dd2-4fad-b986-75e76f4adb64</td>\n      <td>2022-05-11 16:55:06.154213</td>\n      <td>treatment</td>\n      <td>svm_ensemble_v_1_22</td>\n      <td>0</td>\n      <td>United Kingdom</td>\n      <td>26-33</td>\n      <td>new_user</td>\n    </tr>\n    <tr>\n      <th>3</th>\n      <td>4699a417-506d-41b8-a354-6af6ad576963</td>\n      <td>2022-05-08 18:28:03.143765</td>\n      <td>treatment</td>\n      <td>svm_ensemble_v_1_22</td>\n      <td>0</td>\n      <td>United Kingdom</td>\n      <td>42-49</td>\n      <td>registered_user</td>\n    </tr>\n    <tr>\n      <th>4</th>\n      <td>304b0d28-bcdf-401a-9dff-66230d3ba0bc</td>\n      <td>2022-05-21 01:52:26.210827</td>\n      <td>control</td>\n      <td>standard</td>\n      <td>1</td>\n      <td>United Kingdom</td>\n      <td>42-49</td>\n      <td>registered_user</td>\n    </tr>\n  </tbody>\n</table>\n</div>"
     },
     "execution_count": 14,
     "metadata": {},
     "output_type": "execute_result"
    }
   ],
   "source": [
    "df = pd.read_csv('./ab_test_ensembles.csv')\n",
    "df.head()"
   ],
   "metadata": {
    "collapsed": false,
    "pycharm": {
     "name": "#%%\n"
    }
   }
  },
  {
   "cell_type": "code",
   "execution_count": 21,
   "outputs": [
    {
     "name": "stdout",
     "output_type": "stream",
     "text": [
      "<class 'pandas.core.frame.DataFrame'>\n",
      "RangeIndex: 294478 entries, 0 to 294477\n",
      "Data columns (total 8 columns):\n",
      " #   Column     Non-Null Count   Dtype \n",
      "---  ------     --------------   ----- \n",
      " 0   user_id    294478 non-null  object\n",
      " 1   timestamp  294478 non-null  object\n",
      " 2   group      294478 non-null  object\n",
      " 3   variants   294478 non-null  object\n",
      " 4   converted  294478 non-null  int64 \n",
      " 5   location   294478 non-null  object\n",
      " 6   age_group  294478 non-null  object\n",
      " 7   user_type  294478 non-null  object\n",
      "dtypes: int64(1), object(7)\n",
      "memory usage: 18.0+ MB\n"
     ]
    }
   ],
   "source": [
    "df.info()"
   ],
   "metadata": {
    "collapsed": false,
    "pycharm": {
     "name": "#%%\n"
    }
   }
  },
  {
   "cell_type": "code",
   "execution_count": 8,
   "outputs": [],
   "source": [
    "# create a df with only registered users\n",
    "reg_users = df.copy()\n",
    "reg_users.drop(reg_users[reg_users['user_type'] == \"new_user\"].index, inplace = True)"
   ],
   "metadata": {
    "collapsed": false,
    "pycharm": {
     "name": "#%%\n"
    }
   }
  },
  {
   "cell_type": "code",
   "execution_count": 13,
   "outputs": [
    {
     "name": "stdout",
     "output_type": "stream",
     "text": [
      "<class 'pandas.core.frame.DataFrame'>\n",
      "Int64Index: 147240 entries, 0 to 294477\n",
      "Data columns (total 8 columns):\n",
      " #   Column     Non-Null Count   Dtype \n",
      "---  ------     --------------   ----- \n",
      " 0   user_id    147240 non-null  object\n",
      " 1   timestamp  147240 non-null  object\n",
      " 2   group      147240 non-null  object\n",
      " 3   variants   147240 non-null  object\n",
      " 4   converted  147240 non-null  int64 \n",
      " 5   location   147240 non-null  object\n",
      " 6   age_group  147240 non-null  object\n",
      " 7   user_type  147240 non-null  object\n",
      "dtypes: int64(1), object(7)\n",
      "memory usage: 10.1+ MB\n"
     ]
    }
   ],
   "source": [
    "reg_users.info()"
   ],
   "metadata": {
    "collapsed": false,
    "pycharm": {
     "name": "#%%\n"
    }
   }
  },
  {
   "cell_type": "code",
   "execution_count": 17,
   "outputs": [],
   "source": [
    "# create a df with only new users\n",
    "new_users = df.copy()\n",
    "new_users.drop(new_users[new_users['user_type'] == \"registered_user\"].index, inplace = True)"
   ],
   "metadata": {
    "collapsed": false,
    "pycharm": {
     "name": "#%%\n"
    }
   }
  },
  {
   "cell_type": "code",
   "execution_count": 20,
   "outputs": [
    {
     "name": "stdout",
     "output_type": "stream",
     "text": [
      "<class 'pandas.core.frame.DataFrame'>\n",
      "Int64Index: 147238 entries, 2 to 294476\n",
      "Data columns (total 8 columns):\n",
      " #   Column     Non-Null Count   Dtype \n",
      "---  ------     --------------   ----- \n",
      " 0   user_id    147238 non-null  object\n",
      " 1   timestamp  147238 non-null  object\n",
      " 2   group      147238 non-null  object\n",
      " 3   variants   147238 non-null  object\n",
      " 4   converted  147238 non-null  int64 \n",
      " 5   location   147238 non-null  object\n",
      " 6   age_group  147238 non-null  object\n",
      " 7   user_type  147238 non-null  object\n",
      "dtypes: int64(1), object(7)\n",
      "memory usage: 10.1+ MB\n"
     ]
    }
   ],
   "source": [
    "new_users.info()"
   ],
   "metadata": {
    "collapsed": false,
    "pycharm": {
     "name": "#%%\n"
    }
   }
  },
  {
   "cell_type": "code",
   "execution_count": 22,
   "outputs": [
    {
     "data": {
      "text/plain": "variants   standard  svm_ensemble_v_1_22\ngroup                                   \ncontrol      145274                 1928\ntreatment      1965               145311",
      "text/html": "<div>\n<style scoped>\n    .dataframe tbody tr th:only-of-type {\n        vertical-align: middle;\n    }\n\n    .dataframe tbody tr th {\n        vertical-align: top;\n    }\n\n    .dataframe thead th {\n        text-align: right;\n    }\n</style>\n<table border=\"1\" class=\"dataframe\">\n  <thead>\n    <tr style=\"text-align: right;\">\n      <th>variants</th>\n      <th>standard</th>\n      <th>svm_ensemble_v_1_22</th>\n    </tr>\n    <tr>\n      <th>group</th>\n      <th></th>\n      <th></th>\n    </tr>\n  </thead>\n  <tbody>\n    <tr>\n      <th>control</th>\n      <td>145274</td>\n      <td>1928</td>\n    </tr>\n    <tr>\n      <th>treatment</th>\n      <td>1965</td>\n      <td>145311</td>\n    </tr>\n  </tbody>\n</table>\n</div>"
     },
     "execution_count": 22,
     "metadata": {},
     "output_type": "execute_result"
    }
   ],
   "source": [
    "pd.crosstab(df['group'], df['variants'])"
   ],
   "metadata": {
    "collapsed": false,
    "pycharm": {
     "name": "#%%\n"
    }
   }
  },
  {
   "cell_type": "code",
   "execution_count": 24,
   "outputs": [
    {
     "name": "stdout",
     "output_type": "stream",
     "text": [
      "There are 0 users that appear multiple times in our dataset\n"
     ]
    }
   ],
   "source": [
    "session_counts = df['user_id'].value_counts(ascending=False)\n",
    "dublicate_users = session_counts[session_counts > 1].count()\n",
    "\n",
    "print(f'There are {dublicate_users} users that appear multiple times in our dataset')\n",
    "# so we dont have to delete any users"
   ],
   "metadata": {
    "collapsed": false,
    "pycharm": {
     "name": "#%%\n"
    }
   }
  },
  {
   "cell_type": "code",
   "execution_count": 46,
   "outputs": [],
   "source": [
    "# We will create a function to calculate statistics, as we have to reuse it later\n",
    "# calculate statistics\n",
    "def calculate_stats(conversion_rates):\n",
    "        # Стандартное отклонение для сформированной выборки\n",
    "        std_proportion = lambda x: np.std(x, ddof=0)\n",
    "        # Стандартная ошибка для сформированной выборки, формулу стандартной ошибки вы знаете из лекций. Забыли - погуглите.\n",
    "        se_proportion = lambda x: stats.sem(x, ddof=0)\n",
    "\n",
    "        conversion_rates = conversion_rates.agg([np.mean, std_proportion, se_proportion]).rename(columns={'mean':'CR mean', '<lambda_0>':'CR std', '<lambda_1>':'CR se'})\n",
    "        return conversion_rates\n",
    "# treatment shows even worse results as control"
   ],
   "metadata": {
    "collapsed": false,
    "pycharm": {
     "name": "#%%\n"
    }
   }
  },
  {
   "cell_type": "code",
   "execution_count": 49,
   "outputs": [
    {
     "data": {
      "text/plain": "            CR mean    CR std     CR se\ngroup                                  \ncontrol    0.120399  0.325428  0.000848\ntreatment  0.118920  0.323694  0.000843",
      "text/html": "<div>\n<style scoped>\n    .dataframe tbody tr th:only-of-type {\n        vertical-align: middle;\n    }\n\n    .dataframe tbody tr th {\n        vertical-align: top;\n    }\n\n    .dataframe thead th {\n        text-align: right;\n    }\n</style>\n<table border=\"1\" class=\"dataframe\">\n  <thead>\n    <tr style=\"text-align: right;\">\n      <th></th>\n      <th>CR mean</th>\n      <th>CR std</th>\n      <th>CR se</th>\n    </tr>\n    <tr>\n      <th>group</th>\n      <th></th>\n      <th></th>\n      <th></th>\n    </tr>\n  </thead>\n  <tbody>\n    <tr>\n      <th>control</th>\n      <td>0.120399</td>\n      <td>0.325428</td>\n      <td>0.000848</td>\n    </tr>\n    <tr>\n      <th>treatment</th>\n      <td>0.118920</td>\n      <td>0.323694</td>\n      <td>0.000843</td>\n    </tr>\n  </tbody>\n</table>\n</div>"
     },
     "execution_count": 49,
     "metadata": {},
     "output_type": "execute_result"
    }
   ],
   "source": [
    "conversion_rate_whole = df.groupby('group')['converted']\n",
    "calculate_stats(conversion_rates=conversion_rate_whole)"
   ],
   "metadata": {
    "collapsed": false,
    "pycharm": {
     "name": "#%%\n"
    }
   }
  },
  {
   "cell_type": "code",
   "execution_count": 32,
   "outputs": [
    {
     "data": {
      "text/plain": "<Figure size 432x288 with 1 Axes>",
      "image/png": "[encoded data removed]"
     },
     "metadata": {},
     "output_type": "display_data"
    }
   ],
   "source": [
    "# display conversion rate mean\n",
    "sns.set_palette(\"pastel\")\n",
    "sns.barplot(x=df['group'], y=df['converted'])\n",
    "plt.ylim(0, 0.17);\n",
    "plt.xlabel('Group', labelpad=15);\n",
    "plt.ylabel('Converted (proportion)', labelpad=15);"
   ],
   "metadata": {
    "collapsed": false,
    "pycharm": {
     "name": "#%%\n"
    }
   }
  },
  {
   "cell_type": "code",
   "execution_count": 37,
   "outputs": [],
   "source": [
    "#We will put our hypothesis test in a function because we have to use it 3 times\n",
    "#Testing our hypothesis for the whole data set\n",
    "\n",
    "from statsmodels.stats.proportion import proportions_ztest, proportion_confint\n",
    "def hypothesis_test (control_results, treatment_results):\n",
    "\n",
    "        n_con = control_results.count()\n",
    "        n_treat = treatment_results.count()\n",
    "        successes = [control_results.sum(), treatment_results.sum()]\n",
    "        nobs = [n_con, n_treat]\n",
    "\n",
    "        z_stat, pval = proportions_ztest(successes, nobs=nobs)\n",
    "        (lower_con, lower_treat), (upper_con, upper_treat) = proportion_confint(successes, nobs=nobs, alpha=0.05)\n",
    "\n",
    "        print(f'Z-statistic: {z_stat:.2f}')\n",
    "        print(f'p-value: {pval:.3f}')\n",
    "        print(f'CI 95% for control group: [{lower_con:.3f}, {upper_con:.3f}]')\n",
    "        print(f'CI 95% for treatment group: [{lower_treat:.3f}, {upper_treat:.3f}]')"
   ],
   "metadata": {
    "collapsed": false,
    "pycharm": {
     "name": "#%%\n"
    }
   }
  },
  {
   "cell_type": "code",
   "execution_count": 38,
   "outputs": [
    {
     "name": "stdout",
     "output_type": "stream",
     "text": [
      "Z-statistic: 1.24\n",
      "p-value: 0.216\n",
      "CI 95% for control group: [0.119, 0.122]\n",
      "CI 95% for treatment group: [0.117, 0.121]\n"
     ]
    }
   ],
   "source": [
    "control = df[df['group'] == 'control']['converted']\n",
    "treatment = df[df['group'] == 'treatment']['converted']\n",
    "hypothesis_test(control_results= control, treatment_results = treatment)"
   ],
   "metadata": {
    "collapsed": false,
    "pycharm": {
     "name": "#%%\n"
    }
   }
  },
  {
   "cell_type": "markdown",
   "source": [
    "Так как p-value больше нашей альфы (0.05) нам стоит оставить старую версию сайта"
   ],
   "metadata": {
    "collapsed": false,
    "pycharm": {
     "name": "#%% md\n"
    }
   }
  },
  {
   "cell_type": "markdown",
   "source": [
    "***Теперь подсчитаем статистику только для новых пользователей и проведем тест***"
   ],
   "metadata": {
    "collapsed": false,
    "pycharm": {
     "name": "#%% md\n"
    }
   }
  },
  {
   "cell_type": "code",
   "execution_count": 51,
   "outputs": [
    {
     "data": {
      "text/plain": "            CR mean    CR std     CR se\ngroup                                  \ncontrol    0.120746  0.325832  0.001200\ntreatment  0.117557  0.322082  0.001188",
      "text/html": "<div>\n<style scoped>\n    .dataframe tbody tr th:only-of-type {\n        vertical-align: middle;\n    }\n\n    .dataframe tbody tr th {\n        vertical-align: top;\n    }\n\n    .dataframe thead th {\n        text-align: right;\n    }\n</style>\n<table border=\"1\" class=\"dataframe\">\n  <thead>\n    <tr style=\"text-align: right;\">\n      <th></th>\n      <th>CR mean</th>\n      <th>CR std</th>\n      <th>CR se</th>\n    </tr>\n    <tr>\n      <th>group</th>\n      <th></th>\n      <th></th>\n      <th></th>\n    </tr>\n  </thead>\n  <tbody>\n    <tr>\n      <th>control</th>\n      <td>0.120746</td>\n      <td>0.325832</td>\n      <td>0.001200</td>\n    </tr>\n    <tr>\n      <th>treatment</th>\n      <td>0.117557</td>\n      <td>0.322082</td>\n      <td>0.001188</td>\n    </tr>\n  </tbody>\n</table>\n</div>"
     },
     "execution_count": 51,
     "metadata": {},
     "output_type": "execute_result"
    }
   ],
   "source": [
    "# calculate statistics\n",
    "conversion_rates_new = new_users.groupby('group')['converted']\n",
    "calculate_stats(conversion_rates=conversion_rates_new)"
   ],
   "metadata": {
    "collapsed": false,
    "pycharm": {
     "name": "#%%\n"
    }
   }
  },
  {
   "cell_type": "code",
   "execution_count": 52,
   "outputs": [
    {
     "name": "stdout",
     "output_type": "stream",
     "text": [
      "Z-statistic: 1.89\n",
      "p-value: 0.059\n",
      "CI 95% for control group: [0.118, 0.123]\n",
      "CI 95% for treatment group: [0.115, 0.120]\n"
     ]
    }
   ],
   "source": [
    "control_new = new_users[new_users['group'] == 'control']['converted']\n",
    "treatment_new = new_users[new_users['group'] == 'treatment']['converted']\n",
    "hypothesis_test(control_results= control_new, treatment_results = treatment_new)"
   ],
   "metadata": {
    "collapsed": false,
    "pycharm": {
     "name": "#%%\n"
    }
   }
  },
  {
   "cell_type": "markdown",
   "source": [
    "Здесь p-value получилось меньше всего, но наша конверсия хуже чем у контрольной группы, поэтому в любом случае нет смысла менять сайт"
   ],
   "metadata": {
    "collapsed": false,
    "pycharm": {
     "name": "#%% md\n"
    }
   }
  },
  {
   "cell_type": "markdown",
   "source": [
    "А теперь для старых пользователей"
   ],
   "metadata": {
    "collapsed": false,
    "pycharm": {
     "name": "#%% md\n"
    }
   }
  },
  {
   "cell_type": "code",
   "execution_count": 53,
   "outputs": [
    {
     "data": {
      "text/plain": "            CR mean    CR std     CR se\ngroup                                  \ncontrol    0.120051  0.325021  0.001199\ntreatment  0.120277  0.325285  0.001197",
      "text/html": "<div>\n<style scoped>\n    .dataframe tbody tr th:only-of-type {\n        vertical-align: middle;\n    }\n\n    .dataframe tbody tr th {\n        vertical-align: top;\n    }\n\n    .dataframe thead th {\n        text-align: right;\n    }\n</style>\n<table border=\"1\" class=\"dataframe\">\n  <thead>\n    <tr style=\"text-align: right;\">\n      <th></th>\n      <th>CR mean</th>\n      <th>CR std</th>\n      <th>CR se</th>\n    </tr>\n    <tr>\n      <th>group</th>\n      <th></th>\n      <th></th>\n      <th></th>\n    </tr>\n  </thead>\n  <tbody>\n    <tr>\n      <th>control</th>\n      <td>0.120051</td>\n      <td>0.325021</td>\n      <td>0.001199</td>\n    </tr>\n    <tr>\n      <th>treatment</th>\n      <td>0.120277</td>\n      <td>0.325285</td>\n      <td>0.001197</td>\n    </tr>\n  </tbody>\n</table>\n</div>"
     },
     "execution_count": 53,
     "metadata": {},
     "output_type": "execute_result"
    }
   ],
   "source": [
    "# calculate statistics\n",
    "conversion_rates_reg = reg_users.groupby('group')['converted']\n",
    "calculate_stats(conversion_rates=conversion_rates_reg)"
   ],
   "metadata": {
    "collapsed": false,
    "pycharm": {
     "name": "#%%\n"
    }
   }
  },
  {
   "cell_type": "code",
   "execution_count": 40,
   "outputs": [
    {
     "name": "stdout",
     "output_type": "stream",
     "text": [
      "Z-statistic: -0.13\n",
      "p-value: 0.894\n",
      "CI 95% for control group: [0.118, 0.122]\n",
      "CI 95% for treatment group: [0.118, 0.123]\n"
     ]
    }
   ],
   "source": [
    "control_reg = reg_users[reg_users['group'] == 'control']['converted']\n",
    "treatment_reg = reg_users[reg_users['group'] == 'treatment']['converted']\n",
    "hypothesis_test(control_results= control_reg, treatment_results = treatment_reg)"
   ],
   "metadata": {
    "collapsed": false,
    "pycharm": {
     "name": "#%%\n"
    }
   }
  },
  {
   "cell_type": "markdown",
   "source": [
    "Во всех случаях наше p-value больше альфы, поэтому можно оставить старый сайт. И к тому же наш доверительный интервал ни в каком случае не достиг 15%"
   ],
   "metadata": {
    "collapsed": false,
    "pycharm": {
     "name": "#%% md\n"
    }
   }
  }
 ],
 "metadata": {
  "kernelspec": {
   "display_name": "Python 3",
   "language": "python",
   "name": "python3"
  },
  "language_info": {
   "codemirror_mode": {
    "name": "ipython",
    "version": 2
   },
   "file_extension": ".py",
   "mimetype": "text/x-python",
   "name": "python",
   "nbconvert_exporter": "python",
   "pygments_lexer": "ipython2",
   "version": "2.7.6"
  }
 },
 "nbformat": 4,
 "nbformat_minor": 0
}
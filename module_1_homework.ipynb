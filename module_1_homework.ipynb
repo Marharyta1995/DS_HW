{
 "cells": [
  {
   "cell_type": "markdown",
   "source": [
    "# Домашнее задание на проверку знаний библиотеки для анализа данных Pandas.\n",
    "\n",
    "Вам представлен датасет, который содержит информацию по результатам сезона 2016 года игры в бейсбол.\n",
    "\n",
    "Вам необходимо загрузить датасет (он находится в архиве с текущим домашним заданием). Провести его очистку, если это необходимо и ответить на поставленные аналитические\n",
    "вопросы.\n",
    "\n",
    "Список колонок, представленных в датасете:\n",
    "\n",
    "---\n",
    "* attendance        - количество зрителей матча\n",
    "* away_team         - название гостевой команды\n",
    "* away_team_errors  - количество ошибок гостевой команды\n",
    "* away_team_hits    - количество хитов гостевой команды (хит в бейсболе - удар при котором отбивающий достиг первой базы)\n",
    "* away_team_runs    - количество ранов гостевой команды (ран в бейсболе - очко заработанное игроком нападения)\n",
    "* date              - дата проведения матча\n",
    "* field_type        - тип игрового поля\n",
    "* game_type         - тип игры\n",
    "* home_team         - название домашней команды\n",
    "* home_team_errors  - количество ошибок домашней команды\n",
    "* home_team_hits    - количество хитов домашней команды (хит в бейсболе - удар при котором отбивающий достиг первой базы)\n",
    "* home_team_runs    - количество ранов домашней команды (ран в бейсболе - очко заработанное игроком нападения)\n",
    "* start_time        - время начала игрового матча\n",
    "* venue             - название места проведения матча (стадион, поле, арена)\n",
    "* day_of_week       - день недели проведения матча\n",
    "* temperature       - температура воздуха в день проведения матча в фаренгейтах\n",
    "* wind_speed        - скорость ветра в день проведения матча\n",
    "* wind_direction    - направление скорости ветра\n",
    "* sky               - облачность\n",
    "* total_runs        - общее количество ранов для двух команд\n",
    "* game_hours_dec    - длительность матча указаная в часах\n",
    "* season            - тип игрового сезона\n",
    "* home_team_win     - результат домашней команды (1 - выигрыш)\n",
    "* home_team_loss    - результат домашней команды (0 - проигрыш)\n",
    "* home_team_outcome - исход матча\n",
    "---\n",
    "\n",
    "Всего в задании 20 вопросов. За каждый правильный вопрос начисляется 5 баллов. Таким образом за все правильные ответы вы получите - 100 баллов. Оценка затем будет приведена к 10-ти бальной шкале.\n",
    "\n",
    "---\n",
    "\n",
    "**Кроме того, баллы могут быть снижены за**:\n",
    "\n",
    "- 1 балл снижается за качество кода - старайтесь чтобы код был максимально лаконичным. Названия переменных (если они используются) должны отражать максимальную ее сущность. Вывод старайтесь делать минимальным, так как первичная цель - сделать качественный анализ, чтобы быстро ответить на поставленный вопрос (никаких таблиц на 100 строк).\n",
    "\n",
    "\n",
    "- 5 баллов снижается если ответ на домашнюю работу будет прислан в виде скриншота, ноутбука, текстового файла и прочих способов. Используйте при отправке на проверку только GitHub/GitLab либо прочий сервис. Присылать домашнюю работу необходимо ссылкой на ваш репозиторий на адрес электронной почты maratmovlamov2017@gmail.com\n",
    "\n",
    "\n",
    "- за каждый день просрочки дедлайна снижается по 10 баллов. Один день - минус 10 баллов, второй день минус 10 баллов, третий день минус 10 баллов. Соблюдайте сроки и не приступайте к домашнему заданию в последний момент.\n",
    "\n",
    "---\n",
    "\n",
    "Удачи вам в поисках истинны :)"
   ],
   "metadata": {
    "collapsed": false,
    "pycharm": {
     "name": "#%% md\n"
    }
   }
  },
  {
   "cell_type": "code",
   "execution_count": 1,
   "outputs": [],
   "source": [
    "# Импортируйте все необходимые библиотеки и модули которые вам необходимы\n",
    "import numpy as np\n",
    "import pandas as pd\n"
   ],
   "metadata": {
    "collapsed": false,
    "pycharm": {
     "name": "#%%\n"
    }
   }
  },
  {
   "cell_type": "code",
   "execution_count": 46,
   "outputs": [],
   "source": [
    "# Загрузите датасет и проведите его очистку и форматирование если это необходимо\n",
    "df = pd.read_csv('baseball_games.csv')\n",
    "df.drop(columns = ['Unnamed: 0'], axis = 1, inplace= True)"
   ],
   "metadata": {
    "collapsed": false,
    "pycharm": {
     "name": "#%%\n"
    }
   }
  },
  {
   "cell_type": "code",
   "execution_count": 47,
   "outputs": [
    {
     "data": {
      "text/plain": "      attendance            away_team  away_team_errors  away_team_hits  \\\n220          NaN  St. Louis Cardinals                 1               8   \n1724         NaN        New York Mets                 0               5   \n1912         NaN    Cleveland Indians                 2               7   \n\n      away_team_runs        date field_type game_type           home_team  \\\n220                3  2016-07-26   on grass  Day Game       New York Mets   \n1724               1  2016-06-07   on grass  Day Game  Pittsburgh Pirates   \n1912               6  2016-05-23   on grass  Day Game   Chicago White Sox   \n\n      home_team_errors  ...  temperature  wind_speed       wind_direction  \\\n220                  1  ...         90.0        11.0    out to Rightfield   \n1724                 0  ...         65.0        17.0   out to Centerfield   \n1912                 0  ...         82.0        11.0    in from Leftfield   \n\n         sky total_runs  game_hours_dec          season home_team_win  \\\n220   Cloudy          5        3.300000  regular season             0   \n1724  Cloudy          4        2.666667  regular season             1   \n1912   Sunny         13        3.166667  regular season             1   \n\n     home_team_loss  home_team_outcome  \n220               1               Loss  \n1724              0                Win  \n1912              0                Win  \n\n[3 rows x 25 columns]",
      "text/html": "<div>\n<style scoped>\n    .dataframe tbody tr th:only-of-type {\n        vertical-align: middle;\n    }\n\n    .dataframe tbody tr th {\n        vertical-align: top;\n    }\n\n    .dataframe thead th {\n        text-align: right;\n    }\n</style>\n<table border=\"1\" class=\"dataframe\">\n  <thead>\n    <tr style=\"text-align: right;\">\n      <th></th>\n      <th>attendance</th>\n      <th>away_team</th>\n      <th>away_team_errors</th>\n      <th>away_team_hits</th>\n      <th>away_team_runs</th>\n      <th>date</th>\n      <th>field_type</th>\n      <th>game_type</th>\n      <th>home_team</th>\n      <th>home_team_errors</th>\n      <th>...</th>\n      <th>temperature</th>\n      <th>wind_speed</th>\n      <th>wind_direction</th>\n      <th>sky</th>\n      <th>total_runs</th>\n      <th>game_hours_dec</th>\n      <th>season</th>\n      <th>home_team_win</th>\n      <th>home_team_loss</th>\n      <th>home_team_outcome</th>\n    </tr>\n  </thead>\n  <tbody>\n    <tr>\n      <th>220</th>\n      <td>NaN</td>\n      <td>St. Louis Cardinals</td>\n      <td>1</td>\n      <td>8</td>\n      <td>3</td>\n      <td>2016-07-26</td>\n      <td>on grass</td>\n      <td>Day Game</td>\n      <td>New York Mets</td>\n      <td>1</td>\n      <td>...</td>\n      <td>90.0</td>\n      <td>11.0</td>\n      <td>out to Rightfield</td>\n      <td>Cloudy</td>\n      <td>5</td>\n      <td>3.300000</td>\n      <td>regular season</td>\n      <td>0</td>\n      <td>1</td>\n      <td>Loss</td>\n    </tr>\n    <tr>\n      <th>1724</th>\n      <td>NaN</td>\n      <td>New York Mets</td>\n      <td>0</td>\n      <td>5</td>\n      <td>1</td>\n      <td>2016-06-07</td>\n      <td>on grass</td>\n      <td>Day Game</td>\n      <td>Pittsburgh Pirates</td>\n      <td>0</td>\n      <td>...</td>\n      <td>65.0</td>\n      <td>17.0</td>\n      <td>out to Centerfield</td>\n      <td>Cloudy</td>\n      <td>4</td>\n      <td>2.666667</td>\n      <td>regular season</td>\n      <td>1</td>\n      <td>0</td>\n      <td>Win</td>\n    </tr>\n    <tr>\n      <th>1912</th>\n      <td>NaN</td>\n      <td>Cleveland Indians</td>\n      <td>2</td>\n      <td>7</td>\n      <td>6</td>\n      <td>2016-05-23</td>\n      <td>on grass</td>\n      <td>Day Game</td>\n      <td>Chicago White Sox</td>\n      <td>0</td>\n      <td>...</td>\n      <td>82.0</td>\n      <td>11.0</td>\n      <td>in from Leftfield</td>\n      <td>Sunny</td>\n      <td>13</td>\n      <td>3.166667</td>\n      <td>regular season</td>\n      <td>1</td>\n      <td>0</td>\n      <td>Win</td>\n    </tr>\n  </tbody>\n</table>\n<p>3 rows × 25 columns</p>\n</div>"
     },
     "execution_count": 47,
     "metadata": {},
     "output_type": "execute_result"
    }
   ],
   "source": [
    "# cleaning\n",
    "# inspect if any column has missing values\n",
    "df.info()\n",
    "# attendance has missing values, display the rows with them\n",
    "bool_series = pd.isnull(df[\"attendance\"])\n",
    "df[bool_series]"
   ],
   "metadata": {
    "collapsed": false,
    "pycharm": {
     "name": "#%%\n"
    }
   }
  },
  {
   "cell_type": "code",
   "execution_count": 48,
   "outputs": [
    {
     "name": "stdout",
     "output_type": "stream",
     "text": [
      "<class 'pandas.core.frame.DataFrame'>\n",
      "RangeIndex: 2463 entries, 0 to 2462\n",
      "Data columns (total 25 columns):\n",
      " #   Column             Non-Null Count  Dtype  \n",
      "---  ------             --------------  -----  \n",
      " 0   attendance         2463 non-null   float64\n",
      " 1   away_team          2463 non-null   object \n",
      " 2   away_team_errors   2463 non-null   int64  \n",
      " 3   away_team_hits     2463 non-null   int64  \n",
      " 4   away_team_runs     2463 non-null   int64  \n",
      " 5   date               2463 non-null   object \n",
      " 6   field_type         2463 non-null   object \n",
      " 7   game_type          2463 non-null   object \n",
      " 8   home_team          2463 non-null   object \n",
      " 9   home_team_errors   2463 non-null   int64  \n",
      " 10  home_team_hits     2463 non-null   int64  \n",
      " 11  home_team_runs     2463 non-null   int64  \n",
      " 12  start_time         2463 non-null   object \n",
      " 13  venue              2463 non-null   object \n",
      " 14  day_of_week        2463 non-null   object \n",
      " 15  temperature        2463 non-null   float64\n",
      " 16  wind_speed         2463 non-null   float64\n",
      " 17  wind_direction     2463 non-null   object \n",
      " 18  sky                2463 non-null   object \n",
      " 19  total_runs         2463 non-null   int64  \n",
      " 20  game_hours_dec     2463 non-null   float64\n",
      " 21  season             2463 non-null   object \n",
      " 22  home_team_win      2463 non-null   int64  \n",
      " 23  home_team_loss     2463 non-null   int64  \n",
      " 24  home_team_outcome  2463 non-null   object \n",
      "dtypes: float64(4), int64(9), object(12)\n",
      "memory usage: 481.2+ KB\n"
     ]
    }
   ],
   "source": [
    "# replace missing values with the mean of attendance column\n",
    "df['attendance'].fillna(df['attendance'].mean(), inplace = True)\n",
    "# check if missing values were eleminated\n",
    "df.info()"
   ],
   "metadata": {
    "collapsed": false,
    "pycharm": {
     "name": "#%%\n"
    }
   }
  },
  {
   "cell_type": "code",
   "execution_count": 49,
   "outputs": [
    {
     "data": {
      "text/plain": "   attendance              away_team  away_team_errors  away_team_hits  \\\n0     40030.0          New York Mets                 1               7   \n1     21621.0  Philadelphia Phillies                 0               5   \n2     12622.0        Minnesota Twins                 0               5   \n3     18531.0   Washington Nationals                 0               8   \n4     18572.0       Colorado Rockies                 1               8   \n\n   away_team_runs        date field_type   game_type             home_team  \\\n0               3  2016-04-03   on grass  Night Game    Kansas City Royals   \n1               2  2016-04-06   on grass  Night Game       Cincinnati Reds   \n2               2  2016-04-06   on grass  Night Game     Baltimore Orioles   \n3               3  2016-04-06   on grass  Night Game        Atlanta Braves   \n4               4  2016-04-06   on grass    Day Game  Arizona Diamondbacks   \n\n   home_team_errors  ...  temperature  wind_speed         wind_direction  \\\n0                 0  ...         74.0        14.0     from Right to Left   \n1                 0  ...         55.0        24.0     from Right to Left   \n2                 0  ...         48.0         7.0       out to Leftfield   \n3                 1  ...         65.0        10.0     from Right to Left   \n4                 0  ...         77.0         0.0   in unknown direction   \n\n        sky total_runs  game_hours_dec          season home_team_win  \\\n0     Sunny          7        3.216667  regular season             1   \n1  Overcast          5        2.383333  regular season             1   \n2   Unknown          6        3.183333  regular season             1   \n3    Cloudy          4        2.883333  regular season             0   \n4   In Dome          7        2.650000  regular season             0   \n\n  home_team_loss  home_team_outcome  \n0              0                Win  \n1              0                Win  \n2              0                Win  \n3              1               Loss  \n4              1               Loss  \n\n[5 rows x 25 columns]",
      "text/html": "<div>\n<style scoped>\n    .dataframe tbody tr th:only-of-type {\n        vertical-align: middle;\n    }\n\n    .dataframe tbody tr th {\n        vertical-align: top;\n    }\n\n    .dataframe thead th {\n        text-align: right;\n    }\n</style>\n<table border=\"1\" class=\"dataframe\">\n  <thead>\n    <tr style=\"text-align: right;\">\n      <th></th>\n      <th>attendance</th>\n      <th>away_team</th>\n      <th>away_team_errors</th>\n      <th>away_team_hits</th>\n      <th>away_team_runs</th>\n      <th>date</th>\n      <th>field_type</th>\n      <th>game_type</th>\n      <th>home_team</th>\n      <th>home_team_errors</th>\n      <th>...</th>\n      <th>temperature</th>\n      <th>wind_speed</th>\n      <th>wind_direction</th>\n      <th>sky</th>\n      <th>total_runs</th>\n      <th>game_hours_dec</th>\n      <th>season</th>\n      <th>home_team_win</th>\n      <th>home_team_loss</th>\n      <th>home_team_outcome</th>\n    </tr>\n  </thead>\n  <tbody>\n    <tr>\n      <th>0</th>\n      <td>40030.0</td>\n      <td>New York Mets</td>\n      <td>1</td>\n      <td>7</td>\n      <td>3</td>\n      <td>2016-04-03</td>\n      <td>on grass</td>\n      <td>Night Game</td>\n      <td>Kansas City Royals</td>\n      <td>0</td>\n      <td>...</td>\n      <td>74.0</td>\n      <td>14.0</td>\n      <td>from Right to Left</td>\n      <td>Sunny</td>\n      <td>7</td>\n      <td>3.216667</td>\n      <td>regular season</td>\n      <td>1</td>\n      <td>0</td>\n      <td>Win</td>\n    </tr>\n    <tr>\n      <th>1</th>\n      <td>21621.0</td>\n      <td>Philadelphia Phillies</td>\n      <td>0</td>\n      <td>5</td>\n      <td>2</td>\n      <td>2016-04-06</td>\n      <td>on grass</td>\n      <td>Night Game</td>\n      <td>Cincinnati Reds</td>\n      <td>0</td>\n      <td>...</td>\n      <td>55.0</td>\n      <td>24.0</td>\n      <td>from Right to Left</td>\n      <td>Overcast</td>\n      <td>5</td>\n      <td>2.383333</td>\n      <td>regular season</td>\n      <td>1</td>\n      <td>0</td>\n      <td>Win</td>\n    </tr>\n    <tr>\n      <th>2</th>\n      <td>12622.0</td>\n      <td>Minnesota Twins</td>\n      <td>0</td>\n      <td>5</td>\n      <td>2</td>\n      <td>2016-04-06</td>\n      <td>on grass</td>\n      <td>Night Game</td>\n      <td>Baltimore Orioles</td>\n      <td>0</td>\n      <td>...</td>\n      <td>48.0</td>\n      <td>7.0</td>\n      <td>out to Leftfield</td>\n      <td>Unknown</td>\n      <td>6</td>\n      <td>3.183333</td>\n      <td>regular season</td>\n      <td>1</td>\n      <td>0</td>\n      <td>Win</td>\n    </tr>\n    <tr>\n      <th>3</th>\n      <td>18531.0</td>\n      <td>Washington Nationals</td>\n      <td>0</td>\n      <td>8</td>\n      <td>3</td>\n      <td>2016-04-06</td>\n      <td>on grass</td>\n      <td>Night Game</td>\n      <td>Atlanta Braves</td>\n      <td>1</td>\n      <td>...</td>\n      <td>65.0</td>\n      <td>10.0</td>\n      <td>from Right to Left</td>\n      <td>Cloudy</td>\n      <td>4</td>\n      <td>2.883333</td>\n      <td>regular season</td>\n      <td>0</td>\n      <td>1</td>\n      <td>Loss</td>\n    </tr>\n    <tr>\n      <th>4</th>\n      <td>18572.0</td>\n      <td>Colorado Rockies</td>\n      <td>1</td>\n      <td>8</td>\n      <td>4</td>\n      <td>2016-04-06</td>\n      <td>on grass</td>\n      <td>Day Game</td>\n      <td>Arizona Diamondbacks</td>\n      <td>0</td>\n      <td>...</td>\n      <td>77.0</td>\n      <td>0.0</td>\n      <td>in unknown direction</td>\n      <td>In Dome</td>\n      <td>7</td>\n      <td>2.650000</td>\n      <td>regular season</td>\n      <td>0</td>\n      <td>1</td>\n      <td>Loss</td>\n    </tr>\n  </tbody>\n</table>\n<p>5 rows × 25 columns</p>\n</div>"
     },
     "execution_count": 49,
     "metadata": {},
     "output_type": "execute_result"
    }
   ],
   "source": [
    "df.head()"
   ],
   "metadata": {
    "collapsed": false,
    "pycharm": {
     "name": "#%%\n"
    }
   }
  },
  {
   "cell_type": "markdown",
   "source": [
    "# 1. На какую игру пришло максимальное количество зрителей за весь сезон игр?"
   ],
   "metadata": {
    "collapsed": false,
    "pycharm": {
     "name": "#%% md\n"
    }
   }
  },
  {
   "cell_type": "code",
   "execution_count": 60,
   "outputs": [
    {
     "data": {
      "text/plain": "     attendance             away_team  away_team_errors  away_team_hits  \\\n534     53621.0  San Francisco Giants                 1              11   \n\n     away_team_runs        date field_type   game_type            home_team  \\\n534               2  2016-09-20   on grass  Night Game  Los Angeles Dodgers   \n\n     home_team_errors  ...  temperature  wind_speed      wind_direction  \\\n534                 0  ...         77.0         6.0   out to Rightfield   \n\n        sky total_runs  game_hours_dec          season home_team_win  \\\n534  Cloudy          2             3.6  regular season             0   \n\n    home_team_loss  home_team_outcome  \n534              1               Loss  \n\n[1 rows x 25 columns]",
      "text/html": "<div>\n<style scoped>\n    .dataframe tbody tr th:only-of-type {\n        vertical-align: middle;\n    }\n\n    .dataframe tbody tr th {\n        vertical-align: top;\n    }\n\n    .dataframe thead th {\n        text-align: right;\n    }\n</style>\n<table border=\"1\" class=\"dataframe\">\n  <thead>\n    <tr style=\"text-align: right;\">\n      <th></th>\n      <th>attendance</th>\n      <th>away_team</th>\n      <th>away_team_errors</th>\n      <th>away_team_hits</th>\n      <th>away_team_runs</th>\n      <th>date</th>\n      <th>field_type</th>\n      <th>game_type</th>\n      <th>home_team</th>\n      <th>home_team_errors</th>\n      <th>...</th>\n      <th>temperature</th>\n      <th>wind_speed</th>\n      <th>wind_direction</th>\n      <th>sky</th>\n      <th>total_runs</th>\n      <th>game_hours_dec</th>\n      <th>season</th>\n      <th>home_team_win</th>\n      <th>home_team_loss</th>\n      <th>home_team_outcome</th>\n    </tr>\n  </thead>\n  <tbody>\n    <tr>\n      <th>534</th>\n      <td>53621.0</td>\n      <td>San Francisco Giants</td>\n      <td>1</td>\n      <td>11</td>\n      <td>2</td>\n      <td>2016-09-20</td>\n      <td>on grass</td>\n      <td>Night Game</td>\n      <td>Los Angeles Dodgers</td>\n      <td>0</td>\n      <td>...</td>\n      <td>77.0</td>\n      <td>6.0</td>\n      <td>out to Rightfield</td>\n      <td>Cloudy</td>\n      <td>2</td>\n      <td>3.6</td>\n      <td>regular season</td>\n      <td>0</td>\n      <td>1</td>\n      <td>Loss</td>\n    </tr>\n  </tbody>\n</table>\n<p>1 rows × 25 columns</p>\n</div>"
     },
     "execution_count": 60,
     "metadata": {},
     "output_type": "execute_result"
    }
   ],
   "source": [
    "# create new df_regular that only contains season games\n",
    "df_regular = df.copy()\n",
    "df_regular.drop(df_regular[df_regular['season'] == \"post season\"].index, inplace = True)\n",
    "# check if only regular season left\n",
    "#df_regular.season.unique()\n",
    "df_regular.loc[(df_regular['attendance'] == df_regular['attendance'].max())]\n"
   ],
   "metadata": {
    "collapsed": false,
    "pycharm": {
     "name": "#%%\n"
    }
   }
  },
  {
   "cell_type": "markdown",
   "source": [
    "# 2. Какая игра была самая холодная (temperature) за весь сезон?"
   ],
   "metadata": {
    "collapsed": false,
    "pycharm": {
     "name": "#%% md\n"
    }
   }
  },
  {
   "cell_type": "code",
   "execution_count": 61,
   "outputs": [
    {
     "data": {
      "text/plain": "      attendance         away_team  away_team_errors  away_team_hits  \\\n2409     32419.0  New York Yankees                 1              13   \n\n      away_team_runs        date field_type game_type       home_team  \\\n2409               8  2016-04-09   on grass  Day Game  Detroit Tigers   \n\n      home_team_errors  ...  temperature  wind_speed       wind_direction  \\\n2409                 1  ...         31.0        18.0   from Left to Right   \n\n         sky total_runs  game_hours_dec          season home_team_win  \\\n2409  Cloudy         12        3.333333  regular season             0   \n\n     home_team_loss  home_team_outcome  \n2409              1               Loss  \n\n[1 rows x 25 columns]",
      "text/html": "<div>\n<style scoped>\n    .dataframe tbody tr th:only-of-type {\n        vertical-align: middle;\n    }\n\n    .dataframe tbody tr th {\n        vertical-align: top;\n    }\n\n    .dataframe thead th {\n        text-align: right;\n    }\n</style>\n<table border=\"1\" class=\"dataframe\">\n  <thead>\n    <tr style=\"text-align: right;\">\n      <th></th>\n      <th>attendance</th>\n      <th>away_team</th>\n      <th>away_team_errors</th>\n      <th>away_team_hits</th>\n      <th>away_team_runs</th>\n      <th>date</th>\n      <th>field_type</th>\n      <th>game_type</th>\n      <th>home_team</th>\n      <th>home_team_errors</th>\n      <th>...</th>\n      <th>temperature</th>\n      <th>wind_speed</th>\n      <th>wind_direction</th>\n      <th>sky</th>\n      <th>total_runs</th>\n      <th>game_hours_dec</th>\n      <th>season</th>\n      <th>home_team_win</th>\n      <th>home_team_loss</th>\n      <th>home_team_outcome</th>\n    </tr>\n  </thead>\n  <tbody>\n    <tr>\n      <th>2409</th>\n      <td>32419.0</td>\n      <td>New York Yankees</td>\n      <td>1</td>\n      <td>13</td>\n      <td>8</td>\n      <td>2016-04-09</td>\n      <td>on grass</td>\n      <td>Day Game</td>\n      <td>Detroit Tigers</td>\n      <td>1</td>\n      <td>...</td>\n      <td>31.0</td>\n      <td>18.0</td>\n      <td>from Left to Right</td>\n      <td>Cloudy</td>\n      <td>12</td>\n      <td>3.333333</td>\n      <td>regular season</td>\n      <td>0</td>\n      <td>1</td>\n      <td>Loss</td>\n    </tr>\n  </tbody>\n</table>\n<p>1 rows × 25 columns</p>\n</div>"
     },
     "execution_count": 61,
     "metadata": {},
     "output_type": "execute_result"
    }
   ],
   "source": [
    "df_regular.loc[df_regular['temperature'] == df_regular['temperature'].min()]"
   ],
   "metadata": {
    "collapsed": false,
    "pycharm": {
     "name": "#%%\n"
    }
   }
  },
  {
   "cell_type": "code",
   "execution_count": 62,
   "outputs": [
    {
     "data": {
      "text/plain": "attendance                       39782.0\naway_team                  New York Mets\naway_team_errors                       0\naway_team_hits                         6\naway_team_runs                         2\ndate                          2016-04-05\nfield_type                      on grass\ngame_type                       Day Game\nhome_team             Kansas City Royals\nhome_team_errors                       0\nhome_team_hits                         3\nhome_team_runs                         0\nstart_time               3:16 p.m. Local\nvenue                   Kauffman Stadium\nday_of_week                      Tuesday\ntemperature                         68.0\nwind_speed                          17.0\nwind_direction        from Right to Left\nsky                                Sunny\ntotal_runs                             2\ngame_hours_dec                      2.85\nseason                    regular season\nhome_team_win                          0\nhome_team_loss                         1\nhome_team_outcome                   Loss\nName: 2444, dtype: object"
     },
     "execution_count": 62,
     "metadata": {},
     "output_type": "execute_result"
    }
   ],
   "source": [
    "# other way to display the lowest temperature game\n",
    "min_temp = df_regular['temperature'].idxmin()\n",
    "df_regular.iloc[min_temp]"
   ],
   "metadata": {
    "collapsed": false,
    "pycharm": {
     "name": "#%%\n"
    }
   }
  },
  {
   "cell_type": "markdown",
   "source": [
    "# 3. Какая игра была самая теплая за весь сезон?"
   ],
   "metadata": {
    "collapsed": false,
    "pycharm": {
     "name": "#%% md\n"
    }
   }
  },
  {
   "cell_type": "code",
   "execution_count": 63,
   "outputs": [
    {
     "data": {
      "text/plain": "      attendance             away_team  away_team_errors  away_team_hits  \\\n2026     21753.0  San Francisco Giants                 0               8   \n\n      away_team_runs        date field_type   game_type             home_team  \\\n2026               3  2016-05-13   on grass  Night Game  Arizona Diamondbacks   \n\n      home_team_errors  ...  temperature  wind_speed         wind_direction  \\\n2026                 0  ...        101.0         9.0   in unknown direction   \n\n        sky total_runs  game_hours_dec          season home_team_win  \\\n2026  Sunny          4             3.0  regular season             0   \n\n     home_team_loss  home_team_outcome  \n2026              1               Loss  \n\n[1 rows x 25 columns]",
      "text/html": "<div>\n<style scoped>\n    .dataframe tbody tr th:only-of-type {\n        vertical-align: middle;\n    }\n\n    .dataframe tbody tr th {\n        vertical-align: top;\n    }\n\n    .dataframe thead th {\n        text-align: right;\n    }\n</style>\n<table border=\"1\" class=\"dataframe\">\n  <thead>\n    <tr style=\"text-align: right;\">\n      <th></th>\n      <th>attendance</th>\n      <th>away_team</th>\n      <th>away_team_errors</th>\n      <th>away_team_hits</th>\n      <th>away_team_runs</th>\n      <th>date</th>\n      <th>field_type</th>\n      <th>game_type</th>\n      <th>home_team</th>\n      <th>home_team_errors</th>\n      <th>...</th>\n      <th>temperature</th>\n      <th>wind_speed</th>\n      <th>wind_direction</th>\n      <th>sky</th>\n      <th>total_runs</th>\n      <th>game_hours_dec</th>\n      <th>season</th>\n      <th>home_team_win</th>\n      <th>home_team_loss</th>\n      <th>home_team_outcome</th>\n    </tr>\n  </thead>\n  <tbody>\n    <tr>\n      <th>2026</th>\n      <td>21753.0</td>\n      <td>San Francisco Giants</td>\n      <td>0</td>\n      <td>8</td>\n      <td>3</td>\n      <td>2016-05-13</td>\n      <td>on grass</td>\n      <td>Night Game</td>\n      <td>Arizona Diamondbacks</td>\n      <td>0</td>\n      <td>...</td>\n      <td>101.0</td>\n      <td>9.0</td>\n      <td>in unknown direction</td>\n      <td>Sunny</td>\n      <td>4</td>\n      <td>3.0</td>\n      <td>regular season</td>\n      <td>0</td>\n      <td>1</td>\n      <td>Loss</td>\n    </tr>\n  </tbody>\n</table>\n<p>1 rows × 25 columns</p>\n</div>"
     },
     "execution_count": 63,
     "metadata": {},
     "output_type": "execute_result"
    }
   ],
   "source": [
    "df_regular.loc[df_regular['temperature'] == df_regular['temperature'].max()]"
   ],
   "metadata": {
    "collapsed": false,
    "pycharm": {
     "name": "#%%\n"
    }
   }
  },
  {
   "cell_type": "markdown",
   "source": [
    "# 4. Какая игра в сезоне была самая долгая по продолжительности матча?"
   ],
   "metadata": {
    "collapsed": false,
    "pycharm": {
     "name": "#%% md\n"
    }
   }
  },
  {
   "cell_type": "code",
   "execution_count": 64,
   "outputs": [
    {
     "data": {
      "text/plain": "      attendance          away_team  away_team_errors  away_team_hits  \\\n1445     45825.0  Cleveland Indians                 0              15   \n\n      away_team_runs        date field_type game_type          home_team  \\\n1445               2  2016-07-01    on turf  Day Game  Toronto Blue Jays   \n\n      home_team_errors  ...  temperature  wind_speed         wind_direction  \\\n1445                 2  ...         68.0         0.0   in unknown direction   \n\n          sky total_runs  game_hours_dec          season home_team_win  \\\n1445  In Dome          3        6.216667  regular season             0   \n\n     home_team_loss  home_team_outcome  \n1445              1               Loss  \n\n[1 rows x 25 columns]",
      "text/html": "<div>\n<style scoped>\n    .dataframe tbody tr th:only-of-type {\n        vertical-align: middle;\n    }\n\n    .dataframe tbody tr th {\n        vertical-align: top;\n    }\n\n    .dataframe thead th {\n        text-align: right;\n    }\n</style>\n<table border=\"1\" class=\"dataframe\">\n  <thead>\n    <tr style=\"text-align: right;\">\n      <th></th>\n      <th>attendance</th>\n      <th>away_team</th>\n      <th>away_team_errors</th>\n      <th>away_team_hits</th>\n      <th>away_team_runs</th>\n      <th>date</th>\n      <th>field_type</th>\n      <th>game_type</th>\n      <th>home_team</th>\n      <th>home_team_errors</th>\n      <th>...</th>\n      <th>temperature</th>\n      <th>wind_speed</th>\n      <th>wind_direction</th>\n      <th>sky</th>\n      <th>total_runs</th>\n      <th>game_hours_dec</th>\n      <th>season</th>\n      <th>home_team_win</th>\n      <th>home_team_loss</th>\n      <th>home_team_outcome</th>\n    </tr>\n  </thead>\n  <tbody>\n    <tr>\n      <th>1445</th>\n      <td>45825.0</td>\n      <td>Cleveland Indians</td>\n      <td>0</td>\n      <td>15</td>\n      <td>2</td>\n      <td>2016-07-01</td>\n      <td>on turf</td>\n      <td>Day Game</td>\n      <td>Toronto Blue Jays</td>\n      <td>2</td>\n      <td>...</td>\n      <td>68.0</td>\n      <td>0.0</td>\n      <td>in unknown direction</td>\n      <td>In Dome</td>\n      <td>3</td>\n      <td>6.216667</td>\n      <td>regular season</td>\n      <td>0</td>\n      <td>1</td>\n      <td>Loss</td>\n    </tr>\n  </tbody>\n</table>\n<p>1 rows × 25 columns</p>\n</div>"
     },
     "execution_count": 64,
     "metadata": {},
     "output_type": "execute_result"
    }
   ],
   "source": [
    "df_regular.loc[df_regular['game_hours_dec'] == df_regular['game_hours_dec'].max()]"
   ],
   "metadata": {
    "collapsed": false,
    "pycharm": {
     "name": "#%%\n"
    }
   }
  },
  {
   "cell_type": "markdown",
   "source": [
    "# 5. Какая игра в сезоне была самая короткая по продолжительности матча?"
   ],
   "metadata": {
    "collapsed": false,
    "pycharm": {
     "name": "#%% md\n"
    }
   }
  },
  {
   "cell_type": "code",
   "execution_count": 65,
   "outputs": [
    {
     "data": {
      "text/plain": "     attendance     away_team  away_team_errors  away_team_hits  \\\n423     19991.0  Chicago Cubs                 1               4   \n\n     away_team_runs        date field_type   game_type           home_team  \\\n423               1  2016-09-29   on grass  Night Game  Pittsburgh Pirates   \n\n     home_team_errors  ...  temperature  wind_speed      wind_direction  \\\n423                 0  ...         63.0        12.0   in from Leftfield   \n\n          sky total_runs  game_hours_dec          season home_team_win  \\\n423  Overcast          2            1.25  regular season             0   \n\n    home_team_loss  home_team_outcome  \n423              0               Loss  \n\n[1 rows x 25 columns]",
      "text/html": "<div>\n<style scoped>\n    .dataframe tbody tr th:only-of-type {\n        vertical-align: middle;\n    }\n\n    .dataframe tbody tr th {\n        vertical-align: top;\n    }\n\n    .dataframe thead th {\n        text-align: right;\n    }\n</style>\n<table border=\"1\" class=\"dataframe\">\n  <thead>\n    <tr style=\"text-align: right;\">\n      <th></th>\n      <th>attendance</th>\n      <th>away_team</th>\n      <th>away_team_errors</th>\n      <th>away_team_hits</th>\n      <th>away_team_runs</th>\n      <th>date</th>\n      <th>field_type</th>\n      <th>game_type</th>\n      <th>home_team</th>\n      <th>home_team_errors</th>\n      <th>...</th>\n      <th>temperature</th>\n      <th>wind_speed</th>\n      <th>wind_direction</th>\n      <th>sky</th>\n      <th>total_runs</th>\n      <th>game_hours_dec</th>\n      <th>season</th>\n      <th>home_team_win</th>\n      <th>home_team_loss</th>\n      <th>home_team_outcome</th>\n    </tr>\n  </thead>\n  <tbody>\n    <tr>\n      <th>423</th>\n      <td>19991.0</td>\n      <td>Chicago Cubs</td>\n      <td>1</td>\n      <td>4</td>\n      <td>1</td>\n      <td>2016-09-29</td>\n      <td>on grass</td>\n      <td>Night Game</td>\n      <td>Pittsburgh Pirates</td>\n      <td>0</td>\n      <td>...</td>\n      <td>63.0</td>\n      <td>12.0</td>\n      <td>in from Leftfield</td>\n      <td>Overcast</td>\n      <td>2</td>\n      <td>1.25</td>\n      <td>regular season</td>\n      <td>0</td>\n      <td>0</td>\n      <td>Loss</td>\n    </tr>\n  </tbody>\n</table>\n<p>1 rows × 25 columns</p>\n</div>"
     },
     "execution_count": 65,
     "metadata": {},
     "output_type": "execute_result"
    }
   ],
   "source": [
    "df_regular.loc[df_regular['game_hours_dec'] == df_regular['game_hours_dec'].min()]"
   ],
   "metadata": {
    "collapsed": false,
    "pycharm": {
     "name": "#%%\n"
    }
   }
  },
  {
   "cell_type": "markdown",
   "source": [
    "# 6. Сколько матчей в сезоне закончилось ничьей?"
   ],
   "metadata": {
    "collapsed": false,
    "pycharm": {
     "name": "#%% md\n"
    }
   }
  },
  {
   "cell_type": "code",
   "execution_count": 138,
   "outputs": [
    {
     "data": {
      "text/plain": "1"
     },
     "execution_count": 138,
     "metadata": {},
     "output_type": "execute_result"
    }
   ],
   "source": [
    "# одна игра закончилась ничьей\n",
    "tie = df_regular.loc[df_regular['home_team_win'] == df_regular['home_team_loss']]\n",
    "len(tie)"
   ],
   "metadata": {
    "collapsed": false,
    "pycharm": {
     "name": "#%%\n"
    }
   }
  },
  {
   "cell_type": "markdown",
   "source": [
    "# 7. Какая игра была последней в сезоне?"
   ],
   "metadata": {
    "collapsed": false,
    "pycharm": {
     "name": "#%% md\n"
    }
   }
  },
  {
   "cell_type": "code",
   "execution_count": 140,
   "outputs": [
    {
     "name": "stdout",
     "output_type": "stream",
     "text": [
      "<class 'pandas.core.frame.DataFrame'>\n",
      "Int64Index: 2428 entries, 0 to 2462\n",
      "Data columns (total 26 columns):\n",
      " #   Column             Non-Null Count  Dtype         \n",
      "---  ------             --------------  -----         \n",
      " 0   attendance         2428 non-null   float64       \n",
      " 1   away_team          2428 non-null   object        \n",
      " 2   away_team_errors   2428 non-null   int64         \n",
      " 3   away_team_hits     2428 non-null   int64         \n",
      " 4   away_team_runs     2428 non-null   int64         \n",
      " 5   date               2428 non-null   datetime64[ns]\n",
      " 6   field_type         2428 non-null   object        \n",
      " 7   game_type          2428 non-null   object        \n",
      " 8   home_team          2428 non-null   object        \n",
      " 9   home_team_errors   2428 non-null   int64         \n",
      " 10  home_team_hits     2428 non-null   int64         \n",
      " 11  home_team_runs     2428 non-null   int64         \n",
      " 12  start_time         2428 non-null   object        \n",
      " 13  venue              2428 non-null   object        \n",
      " 14  day_of_week        2428 non-null   object        \n",
      " 15  temperature        2428 non-null   float64       \n",
      " 16  wind_speed         2428 non-null   float64       \n",
      " 17  wind_direction     2428 non-null   object        \n",
      " 18  sky                2428 non-null   object        \n",
      " 19  total_runs         2428 non-null   int64         \n",
      " 20  game_hours_dec     2428 non-null   float64       \n",
      " 21  season             2428 non-null   object        \n",
      " 22  home_team_win      2428 non-null   int64         \n",
      " 23  home_team_loss     2428 non-null   int64         \n",
      " 24  home_team_outcome  2428 non-null   object        \n",
      " 25  temp_in_cels       2428 non-null   float64       \n",
      "dtypes: datetime64[ns](1), float64(5), int64(9), object(11)\n",
      "memory usage: 512.2+ KB\n"
     ]
    }
   ],
   "source": [
    "# first convert the column date to datetime format\n",
    "df_regular['date'] = pd.to_datetime(df_regular['date'])\n",
    "df_regular.info()"
   ],
   "metadata": {
    "collapsed": false,
    "pycharm": {
     "name": "#%%\n"
    }
   }
  },
  {
   "cell_type": "code",
   "execution_count": 141,
   "outputs": [
    {
     "data": {
      "text/plain": "     attendance            away_team  away_team_errors  away_team_hits  \\\n349     28730.0        Miami Marlins                 0              14   \n385     37015.0       Tampa Bay Rays                 0              13   \n386     44615.0   Pittsburgh Pirates                 2               9   \n387     41445.0  Los Angeles Dodgers                 1               4   \n388     24856.0    Oakland Athletics                 0               7   \n389     36935.0        New York Mets                 3               8   \n390     33277.0    Baltimore Orioles                 0               7   \n391     29475.0    Cleveland Indians                 0               4   \n392     27762.0    Milwaukee Brewers                 1              10   \n393     32587.0         Chicago Cubs                 0               9   \n394     21904.0      Minnesota Twins                 0               9   \n395     36787.0    Toronto Blue Jays                 0               9   \n396     51220.0       Detroit Tigers                 1               5   \n397     31385.0     San Diego Padres                 0               7   \n398     28083.0       Houston Astros                 0               7   \n\n     away_team_runs       date field_type game_type  \\\n349               7 2016-10-02   on grass  Day Game   \n385               6 2016-10-02   on grass  Day Game   \n386               4 2016-10-02   on grass  Day Game   \n387               1 2016-10-02   on grass  Day Game   \n388               3 2016-10-02   on grass  Day Game   \n389               2 2016-10-02   on grass  Day Game   \n390               5 2016-10-02   on grass  Day Game   \n391               3 2016-10-02   on grass  Day Game   \n392               6 2016-10-02   on grass  Day Game   \n393               7 2016-10-02   on grass  Day Game   \n394               6 2016-10-02   on grass  Day Game   \n395               2 2016-10-02   on grass  Day Game   \n396               0 2016-10-02   on grass  Day Game   \n397               2 2016-10-02   on grass  Day Game   \n398               1 2016-10-02   on grass  Day Game   \n\n                         home_team  home_team_errors  ...  wind_speed  \\\n349           Washington Nationals                 0  ...         2.0   \n385                  Texas Rangers                 2  ...         7.0   \n386            St. Louis Cardinals                 0  ...         6.0   \n387           San Francisco Giants                 0  ...        10.0   \n388               Seattle Mariners                 0  ...         1.0   \n389          Philadelphia Phillies                 0  ...         2.0   \n390               New York Yankees                 0  ...         4.0   \n391             Kansas City Royals                 0  ...         2.0   \n392               Colorado Rockies                 0  ...         3.0   \n393                Cincinnati Reds                 0  ...         7.0   \n394              Chicago White Sox                 0  ...         6.0   \n395                 Boston Red Sox                 1  ...         6.0   \n396                 Atlanta Braves                 0  ...         8.0   \n397           Arizona Diamondbacks                 0  ...         0.0   \n398  Los Angeles Angels of Anaheim                 0  ...         5.0   \n\n            wind_direction       sky total_runs game_hours_dec  \\\n349     from Left to Right  Overcast         17       3.600000   \n385     from Left to Right     Sunny         10       4.000000   \n386       out to Leftfield   Unknown         14       3.200000   \n387     out to Centerfield   Unknown          8       3.066667   \n388     out to Centerfield   Unknown          5       2.566667   \n389     from Right to Left    Cloudy          7       2.650000   \n390     from Left to Right   Unknown          7       2.533333   \n391     from Right to Left    Cloudy          5       2.433333   \n392     out to Centerfield     Sunny         10       3.383333   \n393       out to Leftfield   Unknown         11       3.300000   \n394       out to Leftfield   Unknown          9       3.016667   \n395       out to Leftfield   Unknown          3       3.233333   \n396     from Left to Right    Cloudy          1       2.783333   \n397   in unknown direction   In Dome          5       2.616667   \n398     out to Centerfield    Cloudy          9       2.700000   \n\n             season  home_team_win home_team_loss home_team_outcome  \\\n349  regular season              1              0               Win   \n385  regular season              0              1              Loss   \n386  regular season              1              0               Win   \n387  regular season              1              0               Win   \n388  regular season              0              1              Loss   \n389  regular season              1              0               Win   \n390  regular season              0              1              Loss   \n391  regular season              0              1              Loss   \n392  regular season              0              1              Loss   \n393  regular season              0              1              Loss   \n394  regular season              0              1              Loss   \n395  regular season              0              1              Loss   \n396  regular season              1              0               Win   \n397  regular season              1              0               Win   \n398  regular season              1              0               Win   \n\n     temp_in_cels  \n349     22.777778  \n385     27.777778  \n386     21.666667  \n387     16.666667  \n388     14.444444  \n389     18.888889  \n390     15.555556  \n391     22.777778  \n392     25.000000  \n393     21.666667  \n394     18.333333  \n395     13.333333  \n396     26.666667  \n397     26.111111  \n398     23.888889  \n\n[15 rows x 26 columns]",
      "text/html": "<div>\n<style scoped>\n    .dataframe tbody tr th:only-of-type {\n        vertical-align: middle;\n    }\n\n    .dataframe tbody tr th {\n        vertical-align: top;\n    }\n\n    .dataframe thead th {\n        text-align: right;\n    }\n</style>\n<table border=\"1\" class=\"dataframe\">\n  <thead>\n    <tr style=\"text-align: right;\">\n      <th></th>\n      <th>attendance</th>\n      <th>away_team</th>\n      <th>away_team_errors</th>\n      <th>away_team_hits</th>\n      <th>away_team_runs</th>\n      <th>date</th>\n      <th>field_type</th>\n      <th>game_type</th>\n      <th>home_team</th>\n      <th>home_team_errors</th>\n      <th>...</th>\n      <th>wind_speed</th>\n      <th>wind_direction</th>\n      <th>sky</th>\n      <th>total_runs</th>\n      <th>game_hours_dec</th>\n      <th>season</th>\n      <th>home_team_win</th>\n      <th>home_team_loss</th>\n      <th>home_team_outcome</th>\n      <th>temp_in_cels</th>\n    </tr>\n  </thead>\n  <tbody>\n    <tr>\n      <th>349</th>\n      <td>28730.0</td>\n      <td>Miami Marlins</td>\n      <td>0</td>\n      <td>14</td>\n      <td>7</td>\n      <td>2016-10-02</td>\n      <td>on grass</td>\n      <td>Day Game</td>\n      <td>Washington Nationals</td>\n      <td>0</td>\n      <td>...</td>\n      <td>2.0</td>\n      <td>from Left to Right</td>\n      <td>Overcast</td>\n      <td>17</td>\n      <td>3.600000</td>\n      <td>regular season</td>\n      <td>1</td>\n      <td>0</td>\n      <td>Win</td>\n      <td>22.777778</td>\n    </tr>\n    <tr>\n      <th>385</th>\n      <td>37015.0</td>\n      <td>Tampa Bay Rays</td>\n      <td>0</td>\n      <td>13</td>\n      <td>6</td>\n      <td>2016-10-02</td>\n      <td>on grass</td>\n      <td>Day Game</td>\n      <td>Texas Rangers</td>\n      <td>2</td>\n      <td>...</td>\n      <td>7.0</td>\n      <td>from Left to Right</td>\n      <td>Sunny</td>\n      <td>10</td>\n      <td>4.000000</td>\n      <td>regular season</td>\n      <td>0</td>\n      <td>1</td>\n      <td>Loss</td>\n      <td>27.777778</td>\n    </tr>\n    <tr>\n      <th>386</th>\n      <td>44615.0</td>\n      <td>Pittsburgh Pirates</td>\n      <td>2</td>\n      <td>9</td>\n      <td>4</td>\n      <td>2016-10-02</td>\n      <td>on grass</td>\n      <td>Day Game</td>\n      <td>St. Louis Cardinals</td>\n      <td>0</td>\n      <td>...</td>\n      <td>6.0</td>\n      <td>out to Leftfield</td>\n      <td>Unknown</td>\n      <td>14</td>\n      <td>3.200000</td>\n      <td>regular season</td>\n      <td>1</td>\n      <td>0</td>\n      <td>Win</td>\n      <td>21.666667</td>\n    </tr>\n    <tr>\n      <th>387</th>\n      <td>41445.0</td>\n      <td>Los Angeles Dodgers</td>\n      <td>1</td>\n      <td>4</td>\n      <td>1</td>\n      <td>2016-10-02</td>\n      <td>on grass</td>\n      <td>Day Game</td>\n      <td>San Francisco Giants</td>\n      <td>0</td>\n      <td>...</td>\n      <td>10.0</td>\n      <td>out to Centerfield</td>\n      <td>Unknown</td>\n      <td>8</td>\n      <td>3.066667</td>\n      <td>regular season</td>\n      <td>1</td>\n      <td>0</td>\n      <td>Win</td>\n      <td>16.666667</td>\n    </tr>\n    <tr>\n      <th>388</th>\n      <td>24856.0</td>\n      <td>Oakland Athletics</td>\n      <td>0</td>\n      <td>7</td>\n      <td>3</td>\n      <td>2016-10-02</td>\n      <td>on grass</td>\n      <td>Day Game</td>\n      <td>Seattle Mariners</td>\n      <td>0</td>\n      <td>...</td>\n      <td>1.0</td>\n      <td>out to Centerfield</td>\n      <td>Unknown</td>\n      <td>5</td>\n      <td>2.566667</td>\n      <td>regular season</td>\n      <td>0</td>\n      <td>1</td>\n      <td>Loss</td>\n      <td>14.444444</td>\n    </tr>\n    <tr>\n      <th>389</th>\n      <td>36935.0</td>\n      <td>New York Mets</td>\n      <td>3</td>\n      <td>8</td>\n      <td>2</td>\n      <td>2016-10-02</td>\n      <td>on grass</td>\n      <td>Day Game</td>\n      <td>Philadelphia Phillies</td>\n      <td>0</td>\n      <td>...</td>\n      <td>2.0</td>\n      <td>from Right to Left</td>\n      <td>Cloudy</td>\n      <td>7</td>\n      <td>2.650000</td>\n      <td>regular season</td>\n      <td>1</td>\n      <td>0</td>\n      <td>Win</td>\n      <td>18.888889</td>\n    </tr>\n    <tr>\n      <th>390</th>\n      <td>33277.0</td>\n      <td>Baltimore Orioles</td>\n      <td>0</td>\n      <td>7</td>\n      <td>5</td>\n      <td>2016-10-02</td>\n      <td>on grass</td>\n      <td>Day Game</td>\n      <td>New York Yankees</td>\n      <td>0</td>\n      <td>...</td>\n      <td>4.0</td>\n      <td>from Left to Right</td>\n      <td>Unknown</td>\n      <td>7</td>\n      <td>2.533333</td>\n      <td>regular season</td>\n      <td>0</td>\n      <td>1</td>\n      <td>Loss</td>\n      <td>15.555556</td>\n    </tr>\n    <tr>\n      <th>391</th>\n      <td>29475.0</td>\n      <td>Cleveland Indians</td>\n      <td>0</td>\n      <td>4</td>\n      <td>3</td>\n      <td>2016-10-02</td>\n      <td>on grass</td>\n      <td>Day Game</td>\n      <td>Kansas City Royals</td>\n      <td>0</td>\n      <td>...</td>\n      <td>2.0</td>\n      <td>from Right to Left</td>\n      <td>Cloudy</td>\n      <td>5</td>\n      <td>2.433333</td>\n      <td>regular season</td>\n      <td>0</td>\n      <td>1</td>\n      <td>Loss</td>\n      <td>22.777778</td>\n    </tr>\n    <tr>\n      <th>392</th>\n      <td>27762.0</td>\n      <td>Milwaukee Brewers</td>\n      <td>1</td>\n      <td>10</td>\n      <td>6</td>\n      <td>2016-10-02</td>\n      <td>on grass</td>\n      <td>Day Game</td>\n      <td>Colorado Rockies</td>\n      <td>0</td>\n      <td>...</td>\n      <td>3.0</td>\n      <td>out to Centerfield</td>\n      <td>Sunny</td>\n      <td>10</td>\n      <td>3.383333</td>\n      <td>regular season</td>\n      <td>0</td>\n      <td>1</td>\n      <td>Loss</td>\n      <td>25.000000</td>\n    </tr>\n    <tr>\n      <th>393</th>\n      <td>32587.0</td>\n      <td>Chicago Cubs</td>\n      <td>0</td>\n      <td>9</td>\n      <td>7</td>\n      <td>2016-10-02</td>\n      <td>on grass</td>\n      <td>Day Game</td>\n      <td>Cincinnati Reds</td>\n      <td>0</td>\n      <td>...</td>\n      <td>7.0</td>\n      <td>out to Leftfield</td>\n      <td>Unknown</td>\n      <td>11</td>\n      <td>3.300000</td>\n      <td>regular season</td>\n      <td>0</td>\n      <td>1</td>\n      <td>Loss</td>\n      <td>21.666667</td>\n    </tr>\n    <tr>\n      <th>394</th>\n      <td>21904.0</td>\n      <td>Minnesota Twins</td>\n      <td>0</td>\n      <td>9</td>\n      <td>6</td>\n      <td>2016-10-02</td>\n      <td>on grass</td>\n      <td>Day Game</td>\n      <td>Chicago White Sox</td>\n      <td>0</td>\n      <td>...</td>\n      <td>6.0</td>\n      <td>out to Leftfield</td>\n      <td>Unknown</td>\n      <td>9</td>\n      <td>3.016667</td>\n      <td>regular season</td>\n      <td>0</td>\n      <td>1</td>\n      <td>Loss</td>\n      <td>18.333333</td>\n    </tr>\n    <tr>\n      <th>395</th>\n      <td>36787.0</td>\n      <td>Toronto Blue Jays</td>\n      <td>0</td>\n      <td>9</td>\n      <td>2</td>\n      <td>2016-10-02</td>\n      <td>on grass</td>\n      <td>Day Game</td>\n      <td>Boston Red Sox</td>\n      <td>1</td>\n      <td>...</td>\n      <td>6.0</td>\n      <td>out to Leftfield</td>\n      <td>Unknown</td>\n      <td>3</td>\n      <td>3.233333</td>\n      <td>regular season</td>\n      <td>0</td>\n      <td>1</td>\n      <td>Loss</td>\n      <td>13.333333</td>\n    </tr>\n    <tr>\n      <th>396</th>\n      <td>51220.0</td>\n      <td>Detroit Tigers</td>\n      <td>1</td>\n      <td>5</td>\n      <td>0</td>\n      <td>2016-10-02</td>\n      <td>on grass</td>\n      <td>Day Game</td>\n      <td>Atlanta Braves</td>\n      <td>0</td>\n      <td>...</td>\n      <td>8.0</td>\n      <td>from Left to Right</td>\n      <td>Cloudy</td>\n      <td>1</td>\n      <td>2.783333</td>\n      <td>regular season</td>\n      <td>1</td>\n      <td>0</td>\n      <td>Win</td>\n      <td>26.666667</td>\n    </tr>\n    <tr>\n      <th>397</th>\n      <td>31385.0</td>\n      <td>San Diego Padres</td>\n      <td>0</td>\n      <td>7</td>\n      <td>2</td>\n      <td>2016-10-02</td>\n      <td>on grass</td>\n      <td>Day Game</td>\n      <td>Arizona Diamondbacks</td>\n      <td>0</td>\n      <td>...</td>\n      <td>0.0</td>\n      <td>in unknown direction</td>\n      <td>In Dome</td>\n      <td>5</td>\n      <td>2.616667</td>\n      <td>regular season</td>\n      <td>1</td>\n      <td>0</td>\n      <td>Win</td>\n      <td>26.111111</td>\n    </tr>\n    <tr>\n      <th>398</th>\n      <td>28083.0</td>\n      <td>Houston Astros</td>\n      <td>0</td>\n      <td>7</td>\n      <td>1</td>\n      <td>2016-10-02</td>\n      <td>on grass</td>\n      <td>Day Game</td>\n      <td>Los Angeles Angels of Anaheim</td>\n      <td>0</td>\n      <td>...</td>\n      <td>5.0</td>\n      <td>out to Centerfield</td>\n      <td>Cloudy</td>\n      <td>9</td>\n      <td>2.700000</td>\n      <td>regular season</td>\n      <td>1</td>\n      <td>0</td>\n      <td>Win</td>\n      <td>23.888889</td>\n    </tr>\n  </tbody>\n</table>\n<p>15 rows × 26 columns</p>\n</div>"
     },
     "execution_count": 141,
     "metadata": {},
     "output_type": "execute_result"
    }
   ],
   "source": [
    "df_regular.loc[df_regular['date'] == df_regular['date'].max()]\n",
    "# these games were played on the last day, we cannot say which game was played last because we don't have information about local time"
   ],
   "metadata": {
    "collapsed": false,
    "pycharm": {
     "name": "#%%\n"
    }
   }
  },
  {
   "cell_type": "markdown",
   "source": [
    "# 8. У какой игры было минимальное количество зрителей?"
   ],
   "metadata": {
    "collapsed": false,
    "pycharm": {
     "name": "#%% md\n"
    }
   }
  },
  {
   "cell_type": "code",
   "execution_count": 194,
   "outputs": [
    {
     "data": {
      "text/plain": "      attendance       away_team  away_team_errors  away_team_hits  \\\n2130      8766.0  Detroit Tigers                 0               5   \n\n      away_team_runs        date field_type   game_type          home_team  \\\n2130               0  2016-05-04   on grass  Night Game  Cleveland Indians   \n\n      home_team_errors  ...  temperature  wind_speed       wind_direction  \\\n2130                 0  ...         54.0        11.0   from Left to Right   \n\n           sky total_runs  game_hours_dec          season home_team_win  \\\n2130  Overcast          4        2.316667  regular season             1   \n\n     home_team_loss  home_team_outcome  \n2130              0                Win  \n\n[1 rows x 25 columns]",
      "text/html": "<div>\n<style scoped>\n    .dataframe tbody tr th:only-of-type {\n        vertical-align: middle;\n    }\n\n    .dataframe tbody tr th {\n        vertical-align: top;\n    }\n\n    .dataframe thead th {\n        text-align: right;\n    }\n</style>\n<table border=\"1\" class=\"dataframe\">\n  <thead>\n    <tr style=\"text-align: right;\">\n      <th></th>\n      <th>attendance</th>\n      <th>away_team</th>\n      <th>away_team_errors</th>\n      <th>away_team_hits</th>\n      <th>away_team_runs</th>\n      <th>date</th>\n      <th>field_type</th>\n      <th>game_type</th>\n      <th>home_team</th>\n      <th>home_team_errors</th>\n      <th>...</th>\n      <th>temperature</th>\n      <th>wind_speed</th>\n      <th>wind_direction</th>\n      <th>sky</th>\n      <th>total_runs</th>\n      <th>game_hours_dec</th>\n      <th>season</th>\n      <th>home_team_win</th>\n      <th>home_team_loss</th>\n      <th>home_team_outcome</th>\n    </tr>\n  </thead>\n  <tbody>\n    <tr>\n      <th>2130</th>\n      <td>8766.0</td>\n      <td>Detroit Tigers</td>\n      <td>0</td>\n      <td>5</td>\n      <td>0</td>\n      <td>2016-05-04</td>\n      <td>on grass</td>\n      <td>Night Game</td>\n      <td>Cleveland Indians</td>\n      <td>0</td>\n      <td>...</td>\n      <td>54.0</td>\n      <td>11.0</td>\n      <td>from Left to Right</td>\n      <td>Overcast</td>\n      <td>4</td>\n      <td>2.316667</td>\n      <td>regular season</td>\n      <td>1</td>\n      <td>0</td>\n      <td>Win</td>\n    </tr>\n  </tbody>\n</table>\n<p>1 rows × 25 columns</p>\n</div>"
     },
     "execution_count": 194,
     "metadata": {},
     "output_type": "execute_result"
    }
   ],
   "source": [
    "df.loc[df['attendance'] == df['attendance'].min()]\n",
    "#df_regular.loc[df_regular['attendance'] == df_regular['attendance'].min()]"
   ],
   "metadata": {
    "collapsed": false,
    "pycharm": {
     "name": "#%%\n"
    }
   }
  },
  {
   "cell_type": "markdown",
   "source": [
    "# 9. Какая игра в сезоне была самая ветренная?"
   ],
   "metadata": {
    "collapsed": false,
    "pycharm": {
     "name": "#%% md\n"
    }
   }
  },
  {
   "cell_type": "code",
   "execution_count": 70,
   "outputs": [
    {
     "data": {
      "text/plain": "      attendance          away_team  away_team_errors  away_team_hits  \\\n1655     41543.0  Milwaukee Brewers                 1              11   \n2005     35736.0     Houston Astros                 2               8   \n\n      away_team_runs       date field_type   game_type             home_team  \\\n1655               5 2016-06-13   on grass  Night Game  San Francisco Giants   \n2005               9 2016-05-15   on grass    Day Game        Boston Red Sox   \n\n      home_team_errors  ...  temperature  wind_speed       wind_direction  \\\n1655                 0  ...         58.0        25.0   out to Centerfield   \n2005                 3  ...         58.0        25.0    out to Rightfield   \n\n         sky total_runs  game_hours_dec          season home_team_win  \\\n1655  Cloudy         16        3.633333  regular season             1   \n2005  Cloudy         19        3.666667  regular season             1   \n\n     home_team_loss  home_team_outcome  \n1655              0                Win  \n2005              0                Win  \n\n[2 rows x 25 columns]",
      "text/html": "<div>\n<style scoped>\n    .dataframe tbody tr th:only-of-type {\n        vertical-align: middle;\n    }\n\n    .dataframe tbody tr th {\n        vertical-align: top;\n    }\n\n    .dataframe thead th {\n        text-align: right;\n    }\n</style>\n<table border=\"1\" class=\"dataframe\">\n  <thead>\n    <tr style=\"text-align: right;\">\n      <th></th>\n      <th>attendance</th>\n      <th>away_team</th>\n      <th>away_team_errors</th>\n      <th>away_team_hits</th>\n      <th>away_team_runs</th>\n      <th>date</th>\n      <th>field_type</th>\n      <th>game_type</th>\n      <th>home_team</th>\n      <th>home_team_errors</th>\n      <th>...</th>\n      <th>temperature</th>\n      <th>wind_speed</th>\n      <th>wind_direction</th>\n      <th>sky</th>\n      <th>total_runs</th>\n      <th>game_hours_dec</th>\n      <th>season</th>\n      <th>home_team_win</th>\n      <th>home_team_loss</th>\n      <th>home_team_outcome</th>\n    </tr>\n  </thead>\n  <tbody>\n    <tr>\n      <th>1655</th>\n      <td>41543.0</td>\n      <td>Milwaukee Brewers</td>\n      <td>1</td>\n      <td>11</td>\n      <td>5</td>\n      <td>2016-06-13</td>\n      <td>on grass</td>\n      <td>Night Game</td>\n      <td>San Francisco Giants</td>\n      <td>0</td>\n      <td>...</td>\n      <td>58.0</td>\n      <td>25.0</td>\n      <td>out to Centerfield</td>\n      <td>Cloudy</td>\n      <td>16</td>\n      <td>3.633333</td>\n      <td>regular season</td>\n      <td>1</td>\n      <td>0</td>\n      <td>Win</td>\n    </tr>\n    <tr>\n      <th>2005</th>\n      <td>35736.0</td>\n      <td>Houston Astros</td>\n      <td>2</td>\n      <td>8</td>\n      <td>9</td>\n      <td>2016-05-15</td>\n      <td>on grass</td>\n      <td>Day Game</td>\n      <td>Boston Red Sox</td>\n      <td>3</td>\n      <td>...</td>\n      <td>58.0</td>\n      <td>25.0</td>\n      <td>out to Rightfield</td>\n      <td>Cloudy</td>\n      <td>19</td>\n      <td>3.666667</td>\n      <td>regular season</td>\n      <td>1</td>\n      <td>0</td>\n      <td>Win</td>\n    </tr>\n  </tbody>\n</table>\n<p>2 rows × 25 columns</p>\n</div>"
     },
     "execution_count": 70,
     "metadata": {},
     "output_type": "execute_result"
    }
   ],
   "source": [
    "df_regular.loc[df_regular['wind_speed'] == df_regular['wind_speed'].max()]"
   ],
   "metadata": {
    "collapsed": false,
    "pycharm": {
     "name": "#%%\n"
    }
   }
  },
  {
   "cell_type": "markdown",
   "source": [
    "# 10. В какой игре получили максимальное количество очков?"
   ],
   "metadata": {
    "collapsed": false,
    "pycharm": {
     "name": "#%% md\n"
    }
   }
  },
  {
   "cell_type": "code",
   "execution_count": 71,
   "outputs": [
    {
     "data": {
      "text/plain": "      attendance         away_team  away_team_errors  away_team_hits  \\\n1788     22588.0  Seattle Mariners                 1              16   \n\n      away_team_runs       date field_type   game_type         home_team  \\\n1788              16 2016-06-02   on grass  Night Game  San Diego Padres   \n\n      home_team_errors  ...  temperature  wind_speed      wind_direction  \\\n1788                 1  ...         76.0        10.0   out to Rightfield   \n\n        sky total_runs  game_hours_dec          season home_team_win  \\\n1788  Sunny         29        3.833333  regular season             0   \n\n     home_team_loss  home_team_outcome  \n1788              1               Loss  \n\n[1 rows x 25 columns]",
      "text/html": "<div>\n<style scoped>\n    .dataframe tbody tr th:only-of-type {\n        vertical-align: middle;\n    }\n\n    .dataframe tbody tr th {\n        vertical-align: top;\n    }\n\n    .dataframe thead th {\n        text-align: right;\n    }\n</style>\n<table border=\"1\" class=\"dataframe\">\n  <thead>\n    <tr style=\"text-align: right;\">\n      <th></th>\n      <th>attendance</th>\n      <th>away_team</th>\n      <th>away_team_errors</th>\n      <th>away_team_hits</th>\n      <th>away_team_runs</th>\n      <th>date</th>\n      <th>field_type</th>\n      <th>game_type</th>\n      <th>home_team</th>\n      <th>home_team_errors</th>\n      <th>...</th>\n      <th>temperature</th>\n      <th>wind_speed</th>\n      <th>wind_direction</th>\n      <th>sky</th>\n      <th>total_runs</th>\n      <th>game_hours_dec</th>\n      <th>season</th>\n      <th>home_team_win</th>\n      <th>home_team_loss</th>\n      <th>home_team_outcome</th>\n    </tr>\n  </thead>\n  <tbody>\n    <tr>\n      <th>1788</th>\n      <td>22588.0</td>\n      <td>Seattle Mariners</td>\n      <td>1</td>\n      <td>16</td>\n      <td>16</td>\n      <td>2016-06-02</td>\n      <td>on grass</td>\n      <td>Night Game</td>\n      <td>San Diego Padres</td>\n      <td>1</td>\n      <td>...</td>\n      <td>76.0</td>\n      <td>10.0</td>\n      <td>out to Rightfield</td>\n      <td>Sunny</td>\n      <td>29</td>\n      <td>3.833333</td>\n      <td>regular season</td>\n      <td>0</td>\n      <td>1</td>\n      <td>Loss</td>\n    </tr>\n  </tbody>\n</table>\n<p>1 rows × 25 columns</p>\n</div>"
     },
     "execution_count": 71,
     "metadata": {},
     "output_type": "execute_result"
    }
   ],
   "source": [
    "df_regular.loc[df_regular['total_runs'] == df_regular['total_runs'].max()]"
   ],
   "metadata": {
    "collapsed": false,
    "pycharm": {
     "name": "#%%\n"
    }
   }
  },
  {
   "cell_type": "markdown",
   "source": [
    "# 11. Какая игра содержала максимальное количество ошибок домашней команды?"
   ],
   "metadata": {
    "collapsed": false,
    "pycharm": {
     "name": "#%% md\n"
    }
   }
  },
  {
   "cell_type": "code",
   "execution_count": 102,
   "outputs": [
    {
     "data": {
      "text/plain": "      attendance             away_team  away_team_errors  away_team_hits  \\\n1178     22581.0  Arizona Diamondbacks                 1              11   \n\n      away_team_runs        date field_type   game_type          home_team  \\\n1178               8  2016-07-27   on grass  Night Game  Milwaukee Brewers   \n\n      home_team_errors  ...  temperature  wind_speed      wind_direction  \\\n1178                 5  ...         77.0         9.0   in from Leftfield   \n\n         sky total_runs  game_hours_dec          season home_team_win  \\\n1178  Cloudy          9        2.933333  regular season             0   \n\n     home_team_loss  home_team_outcome  \n1178              1               Loss  \n\n[1 rows x 25 columns]",
      "text/html": "<div>\n<style scoped>\n    .dataframe tbody tr th:only-of-type {\n        vertical-align: middle;\n    }\n\n    .dataframe tbody tr th {\n        vertical-align: top;\n    }\n\n    .dataframe thead th {\n        text-align: right;\n    }\n</style>\n<table border=\"1\" class=\"dataframe\">\n  <thead>\n    <tr style=\"text-align: right;\">\n      <th></th>\n      <th>attendance</th>\n      <th>away_team</th>\n      <th>away_team_errors</th>\n      <th>away_team_hits</th>\n      <th>away_team_runs</th>\n      <th>date</th>\n      <th>field_type</th>\n      <th>game_type</th>\n      <th>home_team</th>\n      <th>home_team_errors</th>\n      <th>...</th>\n      <th>temperature</th>\n      <th>wind_speed</th>\n      <th>wind_direction</th>\n      <th>sky</th>\n      <th>total_runs</th>\n      <th>game_hours_dec</th>\n      <th>season</th>\n      <th>home_team_win</th>\n      <th>home_team_loss</th>\n      <th>home_team_outcome</th>\n    </tr>\n  </thead>\n  <tbody>\n    <tr>\n      <th>1178</th>\n      <td>22581.0</td>\n      <td>Arizona Diamondbacks</td>\n      <td>1</td>\n      <td>11</td>\n      <td>8</td>\n      <td>2016-07-27</td>\n      <td>on grass</td>\n      <td>Night Game</td>\n      <td>Milwaukee Brewers</td>\n      <td>5</td>\n      <td>...</td>\n      <td>77.0</td>\n      <td>9.0</td>\n      <td>in from Leftfield</td>\n      <td>Cloudy</td>\n      <td>9</td>\n      <td>2.933333</td>\n      <td>regular season</td>\n      <td>0</td>\n      <td>1</td>\n      <td>Loss</td>\n    </tr>\n  </tbody>\n</table>\n<p>1 rows × 25 columns</p>\n</div>"
     },
     "execution_count": 102,
     "metadata": {},
     "output_type": "execute_result"
    }
   ],
   "source": [
    "df_regular.loc[df_regular['home_team_errors'] == df_regular['home_team_errors'].max()]"
   ],
   "metadata": {
    "collapsed": false,
    "pycharm": {
     "name": "#%%\n"
    }
   }
  },
  {
   "cell_type": "markdown",
   "source": [
    "# 12. В какой игре было максимальное количество hits?"
   ],
   "metadata": {
    "collapsed": false,
    "pycharm": {
     "name": "#%% md\n"
    }
   }
  },
  {
   "cell_type": "code",
   "execution_count": 150,
   "outputs": [
    {
     "data": {
      "text/plain": "      attendance      away_team  away_team_errors  away_team_hits  \\\n1413     36253.0  Texas Rangers                 0              16   \n\n      away_team_runs       date field_type game_type       home_team  \\\n1413               5 2016-07-04   on grass  Day Game  Boston Red Sox   \n\n      home_team_errors  ...       wind_direction     sky total_runs  \\\n1413                 2  ...   out to Centerfield  Cloudy         17   \n\n     game_hours_dec          season  home_team_win  home_team_loss  \\\n1413       3.666667  regular season              1               0   \n\n     home_team_outcome temp_in_cels  total_hits  \n1413               Win    28.888889          37  \n\n[1 rows x 27 columns]",
      "text/html": "<div>\n<style scoped>\n    .dataframe tbody tr th:only-of-type {\n        vertical-align: middle;\n    }\n\n    .dataframe tbody tr th {\n        vertical-align: top;\n    }\n\n    .dataframe thead th {\n        text-align: right;\n    }\n</style>\n<table border=\"1\" class=\"dataframe\">\n  <thead>\n    <tr style=\"text-align: right;\">\n      <th></th>\n      <th>attendance</th>\n      <th>away_team</th>\n      <th>away_team_errors</th>\n      <th>away_team_hits</th>\n      <th>away_team_runs</th>\n      <th>date</th>\n      <th>field_type</th>\n      <th>game_type</th>\n      <th>home_team</th>\n      <th>home_team_errors</th>\n      <th>...</th>\n      <th>wind_direction</th>\n      <th>sky</th>\n      <th>total_runs</th>\n      <th>game_hours_dec</th>\n      <th>season</th>\n      <th>home_team_win</th>\n      <th>home_team_loss</th>\n      <th>home_team_outcome</th>\n      <th>temp_in_cels</th>\n      <th>total_hits</th>\n    </tr>\n  </thead>\n  <tbody>\n    <tr>\n      <th>1413</th>\n      <td>36253.0</td>\n      <td>Texas Rangers</td>\n      <td>0</td>\n      <td>16</td>\n      <td>5</td>\n      <td>2016-07-04</td>\n      <td>on grass</td>\n      <td>Day Game</td>\n      <td>Boston Red Sox</td>\n      <td>2</td>\n      <td>...</td>\n      <td>out to Centerfield</td>\n      <td>Cloudy</td>\n      <td>17</td>\n      <td>3.666667</td>\n      <td>regular season</td>\n      <td>1</td>\n      <td>0</td>\n      <td>Win</td>\n      <td>28.888889</td>\n      <td>37</td>\n    </tr>\n  </tbody>\n</table>\n<p>1 rows × 27 columns</p>\n</div>"
     },
     "execution_count": 150,
     "metadata": {},
     "output_type": "execute_result"
    }
   ],
   "source": [
    "df_regular['total_hits'] = df_regular['home_team_hits'] + df_regular['away_team_hits']\n",
    "#df_regular.head()\n",
    "df_regular.loc[df_regular['total_hits'] == df_regular['total_hits'].max()]"
   ],
   "metadata": {
    "collapsed": false,
    "pycharm": {
     "name": "#%%\n"
    }
   }
  },
  {
   "cell_type": "markdown",
   "source": [
    "# 13. Выведите количество игр которая сыграла каждая команда в данном сезоне?"
   ],
   "metadata": {
    "collapsed": false,
    "pycharm": {
     "name": "#%% md\n"
    }
   }
  },
  {
   "cell_type": "code",
   "execution_count": 159,
   "outputs": [
    {
     "data": {
      "text/plain": "Kansas City Royals               81\nCincinnati Reds                  81\nCleveland Indians                81\nLos Angeles Dodgers              81\nBoston Red Sox                   81\nChicago White Sox                81\nSan Francisco Giants             81\nSt. Louis Cardinals              81\nToronto Blue Jays                81\nWashington Nationals             81\nColorado Rockies                 81\nChicago Cubs                     81\nHouston Astros                   81\nMinnesota Twins                  81\nNew York Mets                    81\nPhiladelphia Phillies            81\nSeattle Mariners                 81\nMilwaukee Brewers                81\nNew York Yankees                 81\nOakland Athletics                81\nPittsburgh Pirates               81\nSan Diego Padres                 81\nTampa Bay Rays                   81\nTexas Rangers                    81\nArizona Diamondbacks             81\nAtlanta Braves                   81\nBaltimore Orioles                81\nLos Angeles Angels of Anaheim    81\nMiami Marlins                    80\nDetroit Tigers                   80\nName: home_team, dtype: int64"
     },
     "execution_count": 159,
     "metadata": {},
     "output_type": "execute_result"
    }
   ],
   "source": [
    "#df_regular['home_team'].value_counts()"
   ],
   "metadata": {
    "collapsed": false,
    "pycharm": {
     "name": "#%%\n"
    }
   }
  },
  {
   "cell_type": "code",
   "execution_count": 124,
   "outputs": [
    {
     "data": {
      "text/plain": "Miami Marlins                    161\nAtlanta Braves                   161\nCleveland Indians                161\nDetroit Tigers                   161\nTexas Rangers                    162\nTampa Bay Rays                   162\nSt. Louis Cardinals              162\nSeattle Mariners                 162\nSan Francisco Giants             162\nSan Diego Padres                 162\nPittsburgh Pirates               162\nPhiladelphia Phillies            162\nOakland Athletics                162\nNew York Yankees                 162\nNew York Mets                    162\nMinnesota Twins                  162\nArizona Diamondbacks             162\nToronto Blue Jays                162\nLos Angeles Dodgers              162\nLos Angeles Angels of Anaheim    162\nKansas City Royals               162\nHouston Astros                   162\nColorado Rockies                 162\nCincinnati Reds                  162\nChicago White Sox                162\nChicago Cubs                     162\nBoston Red Sox                   162\nBaltimore Orioles                162\nMilwaukee Brewers                162\nWashington Nationals             162\ndtype: int64"
     },
     "execution_count": 124,
     "metadata": {},
     "output_type": "execute_result"
    }
   ],
   "source": [
    "# sum of all the games\n",
    "result = df_regular['home_team'].value_counts() + df_regular['away_team'].value_counts()\n",
    "result.sort_values()"
   ],
   "metadata": {
    "collapsed": false,
    "pycharm": {
     "name": "#%%\n"
    }
   }
  },
  {
   "cell_type": "markdown",
   "source": [
    "# 14. Какая команда выиграла наибольшое количество матчей в сезоне? (Будьте внимательны с типом матча в сезоне - season)."
   ],
   "metadata": {
    "collapsed": false,
    "pycharm": {
     "name": "#%% md\n"
    }
   }
  },
  {
   "cell_type": "code",
   "execution_count": 163,
   "outputs": [],
   "source": [
    "# if only counting season games and not post-season\n",
    "#calculate winners at home and away\n",
    "winner_home = df_regular[df_regular['home_team_win'] == 1]\n",
    "winner_away = df_regular[df_regular['home_team_loss'] == 1]"
   ],
   "metadata": {
    "collapsed": false,
    "pycharm": {
     "name": "#%%\n"
    }
   }
  },
  {
   "cell_type": "code",
   "execution_count": 197,
   "outputs": [
    {
     "data": {
      "text/plain": "Chicago Cubs    103\ndtype: int64"
     },
     "execution_count": 197,
     "metadata": {},
     "output_type": "execute_result"
    }
   ],
   "source": [
    "winner = winner_home['home_team'].value_counts() + winner_away['away_team'].value_counts()\n",
    "#winner.sort_values(ascending=False)\n",
    "winner.sort_values(ascending=False).iloc[:1]"
   ],
   "metadata": {
    "collapsed": false,
    "pycharm": {
     "name": "#%%\n"
    }
   }
  },
  {
   "cell_type": "markdown",
   "source": [
    "# 15. Какая команда выиграла наибольшее количество домашних матчей в сезоне?"
   ],
   "metadata": {
    "collapsed": false,
    "pycharm": {
     "name": "#%% md\n"
    }
   }
  },
  {
   "cell_type": "code",
   "execution_count": 173,
   "outputs": [
    {
     "data": {
      "text/plain": "Chicago Cubs    57\nName: home_team, dtype: int64"
     },
     "execution_count": 173,
     "metadata": {},
     "output_type": "execute_result"
    }
   ],
   "source": [
    "winner_home = df_regular[df_regular['home_team_win'] == 1]\n",
    "#winner_home['home_team'].value_counts()\n",
    "winner_home['home_team'].value_counts().sort_values(ascending=False).iloc[:1]"
   ],
   "metadata": {
    "collapsed": false,
    "pycharm": {
     "name": "#%%\n"
    }
   }
  },
  {
   "cell_type": "markdown",
   "source": [
    "# 16. Какая команда выиграла наибольшее количество гостевых матчей в сезоне?"
   ],
   "metadata": {
    "collapsed": false,
    "pycharm": {
     "name": "#%% md\n"
    }
   }
  },
  {
   "cell_type": "code",
   "execution_count": 174,
   "outputs": [
    {
     "data": {
      "text/plain": "St. Louis Cardinals    48\nName: away_team, dtype: int64"
     },
     "execution_count": 174,
     "metadata": {},
     "output_type": "execute_result"
    }
   ],
   "source": [
    "winner_away = df_regular[df_regular['home_team_loss'] == 1]\n",
    "#winner_away['away_team'].value_counts()\n",
    "winner_away['away_team'].value_counts().sort_values(ascending=False).iloc[:1]"
   ],
   "metadata": {
    "collapsed": false,
    "pycharm": {
     "name": "#%%\n"
    }
   }
  },
  {
   "cell_type": "markdown",
   "source": [
    "# 17. Какая команда проиграла наибольшее количество матчей в сезоне?"
   ],
   "metadata": {
    "collapsed": false,
    "pycharm": {
     "name": "#%% md\n"
    }
   }
  },
  {
   "cell_type": "code",
   "execution_count": 180,
   "outputs": [],
   "source": [
    "#calculate losses at home and away\n",
    "loss_home = df_regular[df_regular['home_team_win'] == 0]\n",
    "loss_away = df_regular[df_regular['home_team_loss'] == 0]"
   ],
   "metadata": {
    "collapsed": false,
    "pycharm": {
     "name": "#%%\n"
    }
   }
  },
  {
   "cell_type": "code",
   "execution_count": 198,
   "outputs": [
    {
     "data": {
      "text/plain": "Minnesota Twins    103\ndtype: int64"
     },
     "execution_count": 198,
     "metadata": {},
     "output_type": "execute_result"
    }
   ],
   "source": [
    "loss = loss_home['home_team'].value_counts() + loss_away['away_team'].value_counts()\n",
    "#loss.sort_values(ascending=False)\n",
    "loss.sort_values(ascending=False).iloc[:1]"
   ],
   "metadata": {
    "collapsed": false,
    "pycharm": {
     "name": "#%%\n"
    }
   }
  },
  {
   "cell_type": "markdown",
   "source": [
    "# 18. Зависит ли выигрышь от количества посетителей матча? (https://pandas.pydata.org/docs/reference/api/pandas.DataFrame.cov.html)"
   ],
   "metadata": {
    "collapsed": false,
    "pycharm": {
     "name": "#%% md\n"
    }
   }
  },
  {
   "cell_type": "code",
   "execution_count": 158,
   "outputs": [
    {
     "name": "stdout",
     "output_type": "stream",
     "text": [
      "Yes, there is a positive correlation, covariance is 242.53840073138002 \n"
     ]
    }
   ],
   "source": [
    "cov = df_regular.home_team_win.cov(df_regular.attendance)\n",
    "print(f'Yes, there is a positive correlation, covariance is {cov} ')"
   ],
   "metadata": {
    "collapsed": false,
    "pycharm": {
     "name": "#%%\n"
    }
   }
  },
  {
   "cell_type": "markdown",
   "source": [
    "# 19. Правда ли что большинство проигрышных домашних матчей приходятся на Субботу и Воскресенье?"
   ],
   "metadata": {
    "collapsed": false,
    "pycharm": {
     "name": "#%% md\n"
    }
   }
  },
  {
   "cell_type": "code",
   "execution_count": 193,
   "outputs": [
    {
     "data": {
      "text/plain": "             home_team_win\nday_of_week               \nFriday                   1\nMonday                   1\nSaturday                 1\nSunday                   1\nThursday                 0\nTuesday                  1\nWednesday                1",
      "text/html": "<div>\n<style scoped>\n    .dataframe tbody tr th:only-of-type {\n        vertical-align: middle;\n    }\n\n    .dataframe tbody tr th {\n        vertical-align: top;\n    }\n\n    .dataframe thead th {\n        text-align: right;\n    }\n</style>\n<table border=\"1\" class=\"dataframe\">\n  <thead>\n    <tr style=\"text-align: right;\">\n      <th></th>\n      <th>home_team_win</th>\n    </tr>\n    <tr>\n      <th>day_of_week</th>\n      <th></th>\n    </tr>\n  </thead>\n  <tbody>\n    <tr>\n      <th>Friday</th>\n      <td>1</td>\n    </tr>\n    <tr>\n      <th>Monday</th>\n      <td>1</td>\n    </tr>\n    <tr>\n      <th>Saturday</th>\n      <td>1</td>\n    </tr>\n    <tr>\n      <th>Sunday</th>\n      <td>1</td>\n    </tr>\n    <tr>\n      <th>Thursday</th>\n      <td>0</td>\n    </tr>\n    <tr>\n      <th>Tuesday</th>\n      <td>1</td>\n    </tr>\n    <tr>\n      <th>Wednesday</th>\n      <td>1</td>\n    </tr>\n  </tbody>\n</table>\n</div>"
     },
     "execution_count": 193,
     "metadata": {},
     "output_type": "execute_result"
    }
   ],
   "source": [
    "pd.pivot_table(df, index = 'day_of_week', values = 'home_team_win', aggfunc = np.median )\n",
    "# 0 is loss, so the median 0 indicates days with more losses"
   ],
   "metadata": {
    "collapsed": false,
    "pycharm": {
     "name": "#%%\n"
    }
   }
  },
  {
   "cell_type": "code",
   "execution_count": null,
   "outputs": [],
   "source": [
    "print('No, it is Thursday')"
   ],
   "metadata": {
    "collapsed": false,
    "pycharm": {
     "name": "#%%\n"
    }
   }
  },
  {
   "cell_type": "markdown",
   "source": [
    "# 20. Правда ли что наибольшее количество ранов происходит в холодную погоду? (Холодной погодой считается погода ниже 0 градусов)"
   ],
   "metadata": {
    "collapsed": false,
    "pycharm": {
     "name": "#%% md\n"
    }
   }
  },
  {
   "cell_type": "code",
   "execution_count": 96,
   "outputs": [],
   "source": [
    "# transform Fahrenheit to Celsius\n",
    "df_regular['temp_in_cels'] = (df_regular['temperature']-32)*5/9"
   ],
   "metadata": {
    "collapsed": false,
    "pycharm": {
     "name": "#%%\n"
    }
   }
  },
  {
   "cell_type": "code",
   "execution_count": 97,
   "outputs": [],
   "source": [
    "#df_regular.head()"
   ],
   "metadata": {
    "collapsed": false,
    "pycharm": {
     "name": "#%%\n"
    }
   }
  },
  {
   "cell_type": "code",
   "execution_count": 125,
   "outputs": [
    {
     "name": "stdout",
     "output_type": "stream",
     "text": [
      "More runs when the weather is above 0\n"
     ]
    }
   ],
   "source": [
    "if df_regular[df_regular[\"temp_in_cels\"]>0][\"total_runs\"].max() > df_regular[df_regular[\"temp_in_cels\"]<0][\"total_runs\"].max():\n",
    "    print('More runs when the weather is above 0')\n",
    "else:\n",
    "    print('More runs when the weather is below 0')\n",
    "\n"
   ],
   "metadata": {
    "collapsed": false,
    "pycharm": {
     "name": "#%%\n"
    }
   }
  },
  {
   "cell_type": "code",
   "execution_count": 126,
   "outputs": [
    {
     "data": {
      "text/plain": "29"
     },
     "execution_count": 126,
     "metadata": {},
     "output_type": "execute_result"
    }
   ],
   "source": [
    "df_regular[df_regular[\"temp_in_cels\"]>0][\"total_runs\"].max()"
   ],
   "metadata": {
    "collapsed": false,
    "pycharm": {
     "name": "#%%\n"
    }
   }
  },
  {
   "cell_type": "code",
   "execution_count": 127,
   "outputs": [
    {
     "data": {
      "text/plain": "12"
     },
     "execution_count": 127,
     "metadata": {},
     "output_type": "execute_result"
    }
   ],
   "source": [
    "df_regular[df_regular[\"temp_in_cels\"]<0][\"total_runs\"].max()"
   ],
   "metadata": {
    "collapsed": false,
    "pycharm": {
     "name": "#%%\n"
    }
   }
  },
  {
   "cell_type": "code",
   "execution_count": null,
   "outputs": [],
   "source": [],
   "metadata": {
    "collapsed": false,
    "pycharm": {
     "name": "#%%\n"
    }
   }
  }
 ],
 "metadata": {
  "kernelspec": {
   "display_name": "Python 3",
   "language": "python",
   "name": "python3"
  },
  "language_info": {
   "codemirror_mode": {
    "name": "ipython",
    "version": 2
   },
   "file_extension": ".py",
   "mimetype": "text/x-python",
   "name": "python",
   "nbconvert_exporter": "python",
   "pygments_lexer": "ipython2",
   "version": "2.7.6"
  }
 },
 "nbformat": 4,
 "nbformat_minor": 0
}
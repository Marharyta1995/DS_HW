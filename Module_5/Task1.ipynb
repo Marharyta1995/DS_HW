{
 "cells": [
  {
   "cell_type": "code",
   "execution_count": 184,
   "id": "9cf17b81",
   "metadata": {},
   "outputs": [],
   "source": [
    "import torch\n",
    "import torch.nn as nn\n",
    "from torch.utils.data import Dataset, TensorDataset, DataLoader\n",
    "\n",
    "import numpy as np\n",
    "import pandas as pd\n",
    "import matplotlib.pyplot as plt\n",
    "%matplotlib inline"
   ]
  },
  {
   "cell_type": "code",
   "execution_count": 186,
   "id": "a1e3ec02",
   "metadata": {},
   "outputs": [],
   "source": [
    "f = open('pride_and_prejudice.txt', 'r')\n",
    "data = f.read()\n",
    "f.close()"
   ]
  },
  {
   "cell_type": "code",
   "execution_count": 187,
   "id": "5c9f3a42",
   "metadata": {},
   "outputs": [],
   "source": [
    "def encrypt(text, key):\n",
    "#convert letter to ascii indexes and back to text\n",
    "    encrypted_text = []\n",
    "    for char in text:\n",
    "        if char.isalpha():\n",
    "            if char.isupper():\n",
    "                ind = ord(char) - ord('A')\n",
    "                ind = (ind + key) % 26\n",
    "                new_ind = ind + ord('A')\n",
    "                new_char = chr(new_ind)\n",
    "            else:\n",
    "                ind = ord(char) - ord('a')\n",
    "                ind = (ind + key) % 26\n",
    "                new_ind = ind + ord('a')\n",
    "                new_char = chr(new_ind)\n",
    "\n",
    "            encrypted_text.append(new_char)\n",
    "        else:\n",
    "            encrypted_text.append(char)\n",
    "    encrypted = ''.join(encrypted_text)\n",
    "\n",
    "    return encrypted"
   ]
  },
  {
   "cell_type": "code",
   "execution_count": 188,
   "id": "6e2b6cd5",
   "metadata": {
    "scrolled": true
   },
   "outputs": [
    {
     "name": "stdout",
     "output_type": "stream",
     "text": [
      "b\n"
     ]
    }
   ],
   "source": [
    "print(encrypt('z', 2))"
   ]
  },
  {
   "cell_type": "code",
   "execution_count": 189,
   "id": "969229fd",
   "metadata": {},
   "outputs": [],
   "source": [
    "# encrypt yor text\n",
    "encrypted_text = encrypt(data, key = 3)"
   ]
  },
  {
   "cell_type": "code",
   "execution_count": 190,
   "id": "98c0f86d",
   "metadata": {},
   "outputs": [],
   "source": [
    "all_char_data = set(data)\n",
    "all_char_encrypt = set(encrypted_text)\n",
    "all_char_data.update(all_char_encrypt)\n",
    "vocab = sorted(list(all_char_data))\n"
   ]
  },
  {
   "cell_type": "code",
   "execution_count": 215,
   "id": "8bb9a23f",
   "metadata": {},
   "outputs": [
    {
     "name": "stdout",
     "output_type": "stream",
     "text": [
      "5120 5120\n"
     ]
    }
   ],
   "source": [
    "# convert data and encrypted_text to numbers according to vocab\n",
    "data_converted = [vocab.index(x) for x in data]\n",
    "#use first 512000 examples\n",
    "data_converted = data_converted[:512000]\n",
    "encrypt_converted = [vocab.index(x) for x in encrypted_text]\n",
    "encrypt_converted = encrypt_converted [:512000]\n",
    "y = torch.FloatTensor(data_converted).view(-1, 100).long()\n",
    "x = torch.FloatTensor(encrypt_converted).view(-1, 100).long()\n",
    "# create pairs of tensors\n",
    "\n",
    "len_examples = len(y)\n",
    "dataset = []\n",
    "for i in range(len_examples):\n",
    "     dataset.append([x[i], y[i]])\n",
    "print(len_examples, len(y))"
   ]
  },
  {
   "cell_type": "code",
   "execution_count": 216,
   "id": "cd4d38cd",
   "metadata": {},
   "outputs": [
    {
     "data": {
      "text/plain": [
       "1024"
      ]
     },
     "execution_count": 216,
     "metadata": {},
     "output_type": "execute_result"
    }
   ],
   "source": [
    "#creat test-train split 80 % test\n",
    "train_tensor = dataset[:int(len_examples*0.8)]\n",
    "test_tensor = dataset[int(len_examples*0.8):]\n",
    "len(test_tensor)"
   ]
  },
  {
   "cell_type": "code",
   "execution_count": 218,
   "id": "b49a82d8",
   "metadata": {},
   "outputs": [],
   "source": [
    "num_classes = len(vocab)\n",
    "embedding_size = 10\n",
    "hidden_size = 10"
   ]
  },
  {
   "cell_type": "code",
   "execution_count": 219,
   "id": "032772a8",
   "metadata": {},
   "outputs": [],
   "source": [
    "class RNN(torch.nn.Module):\n",
    "        \n",
    "    def __init__(self, num_classes = num_classes, embedding_dim = embedding_size, hidden_dim = hidden_size):\n",
    "        super(RNN, self).__init__()\n",
    "        self.embedding = torch.nn.Embedding(num_classes, embedding_dim)\n",
    "        self.rnn = torch.nn.RNN(embedding_dim, hidden_dim) \n",
    "        self.linear = torch.nn.Linear(hidden_dim, num_classes)\n",
    "        # Initialize hidden:\n",
    "        #self.hidden = torch.zeros(1,1,hidden_dim)\n",
    "\n",
    "    def forward(self, X):\n",
    "        model_in = self.embedding(X)\n",
    "        model_in = model_in.unsqueeze(1)\n",
    "        out, hidden = self.rnn(model_in)\n",
    "        out = self.linear(out)\n",
    "        out = out.view(-1, num_classes).squeeze()\n",
    "        out = out.unsqueeze(2)\n",
    "        return out"
   ]
  },
  {
   "cell_type": "code",
   "execution_count": 220,
   "id": "da22b1c7",
   "metadata": {},
   "outputs": [
    {
     "data": {
      "text/plain": [
       "RNN(\n",
       "  (embedding): Embedding(78, 10)\n",
       "  (rnn): RNN(10, 10)\n",
       "  (linear): Linear(in_features=10, out_features=78, bias=True)\n",
       ")"
      ]
     },
     "execution_count": 220,
     "metadata": {},
     "output_type": "execute_result"
    }
   ],
   "source": [
    "model_RNN = RNN()\n",
    "softmax = torch.nn.functional.softmax\n",
    "criterion = torch.nn.CrossEntropyLoss()\n",
    "optimizer = torch.optim.Adam(model_RNN.parameters(), lr=0.01)\n",
    "#model_RNN.to(device)\n",
    "model_RNN"
   ]
  },
  {
   "cell_type": "code",
   "execution_count": 221,
   "id": "db3a9b6f",
   "metadata": {},
   "outputs": [
    {
     "name": "stdout",
     "output_type": "stream",
     "text": [
      "Epoch: 0\n",
      "Loss: 0.0018\n",
      "Epoch: 1\n",
      "Loss: 0.0003\n",
      "Epoch: 2\n",
      "Loss: 0.0001\n",
      "Epoch: 3\n",
      "Loss: 0.0000\n",
      "Epoch: 4\n",
      "Loss: 0.0000\n",
      "Epoch: 5\n",
      "Loss: 0.0000\n",
      "Epoch: 6\n",
      "Loss: 0.0000\n",
      "Epoch: 7\n",
      "Loss: 0.0000\n",
      "Epoch: 8\n",
      "Loss: 0.0000\n",
      "Epoch: 9\n",
      "Loss: 0.0000\n",
      "Epoch: 10\n",
      "Loss: 0.0000\n",
      "Epoch: 11\n",
      "Loss: 0.0000\n",
      "Epoch: 12\n",
      "Loss: 0.0000\n",
      "Epoch: 13\n",
      "Loss: 0.0000\n",
      "Epoch: 14\n",
      "Loss: 0.0000\n",
      "Epoch: 15\n",
      "Loss: 0.0000\n",
      "Epoch: 16\n",
      "Loss: 0.0000\n",
      "Epoch: 17\n",
      "Loss: 0.0000\n",
      "Epoch: 18\n",
      "Loss: 0.0000\n",
      "Epoch: 19\n",
      "Loss: 0.0000\n"
     ]
    }
   ],
   "source": [
    "num_epochs = 20\n",
    "accuracies, max_accuracy = [], 0\n",
    "for epoch in range(num_epochs):\n",
    "    model_RNN.train()\n",
    "    print('Epoch: {}'.format(epoch))\n",
    "    for x, y in train_tensor:\n",
    "        optimizer.zero_grad()\n",
    "        prediction = model_RNN(x)\n",
    "        #print(prediction.shape)\n",
    "        #print(f'prediction {prediction}')\n",
    "        y_in = y.unsqueeze(1)\n",
    "        #print(f'y_in {y_in}')\n",
    "        # Calculate loss\n",
    "        loss = criterion(prediction, y_in) \n",
    "        # Backpropagate\n",
    "        loss.backward()\n",
    "        # Update weights\n",
    "        optimizer.step()\n",
    "\n",
    "    print('Loss: {:6.4f}'.format(loss.item()))\n",
    "      "
   ]
  },
  {
   "cell_type": "code",
   "execution_count": 225,
   "id": "be26c11d",
   "metadata": {},
   "outputs": [
    {
     "name": "stdout",
     "output_type": "stream",
     "text": [
      "Accuracy: 100.00%\n"
     ]
    }
   ],
   "source": [
    "with torch.no_grad():\n",
    "        matches, total = 0, 0\n",
    "        for x, y in test_tensor:\n",
    "            model_RNN.eval()\n",
    "            scores = model_RNN(x)\n",
    "            # Compute a softmax over the outputs\n",
    "            predictions = softmax(scores, dim=1)\n",
    "            # Choose the number with the maximum probability\n",
    "            _, batch_out = predictions.max(dim=1)\n",
    "            # Remove fake dimension\n",
    "            batch_out = batch_out.squeeze(1)\n",
    "            # Calculate accuracy\n",
    "            matches += torch.eq(batch_out, y).sum().item()\n",
    "            #print(batch_out, y)\n",
    "            total += torch.numel(batch_out)\n",
    "        accuracy = matches / total\n",
    "        print('Accuracy: {:4.2f}%'.format(accuracy * 100))"
   ]
  },
  {
   "cell_type": "code",
   "execution_count": 226,
   "id": "d45cf535",
   "metadata": {},
   "outputs": [],
   "source": [
    "test_text = test_tensor[:1]"
   ]
  },
  {
   "cell_type": "code",
   "execution_count": 228,
   "id": "f56d5f56",
   "metadata": {},
   "outputs": [
    {
     "name": "stdout",
     "output_type": "stream",
     "text": [
      "\n",
      " uh yhub gliihuhqw iu \n",
      " re very different fr \n",
      " re very different fr\n"
     ]
    }
   ],
   "source": [
    "with torch.no_grad():\n",
    "        matches, total = 0, 0\n",
    "        for x, y in test_text:\n",
    "            model_RNN.eval()\n",
    "            scores = model_RNN(x)\n",
    "            # Compute a softmax over the outputs\n",
    "            predictions = softmax(scores, dim=1)\n",
    "            # Choose the number with the maximum probability\n",
    "            _, batch_out = predictions.max(dim=1)\n",
    "            # Remove fake dimension\n",
    "            batch_out = batch_out.squeeze(1)\n",
    "            #print(batch_out, y)\n",
    "            output = batch_out.tolist()\n",
    "            real_y = y.tolist()\n",
    "            input_x = x.tolist()\n",
    "            encrypted_message = [vocab[idx] for idx in  input_x]\n",
    "            model_output = [vocab[idx] for idx in  output]\n",
    "            real_output = [vocab[idx] for idx in  real_y]\n",
    "            encrypted_input = ''.join(encrypted_message)\n",
    "            model = ''.join(model_output)\n",
    "            real = ''.join(real_output)\n",
    "            print('\\n',encrypted_input[:20], '\\n', model[:20], '\\n', real[:20] )\n",
    "\n",
    "            \n"
   ]
  },
  {
   "cell_type": "code",
   "execution_count": null,
   "id": "158c6b35",
   "metadata": {},
   "outputs": [],
   "source": []
  }
 ],
 "metadata": {
  "kernelspec": {
   "display_name": "Python 3 (ipykernel)",
   "language": "python",
   "name": "python3"
  },
  "language_info": {
   "codemirror_mode": {
    "name": "ipython",
    "version": 3
   },
   "file_extension": ".py",
   "mimetype": "text/x-python",
   "name": "python",
   "nbconvert_exporter": "python",
   "pygments_lexer": "ipython3",
   "version": "3.9.13"
  }
 },
 "nbformat": 4,
 "nbformat_minor": 5
}
